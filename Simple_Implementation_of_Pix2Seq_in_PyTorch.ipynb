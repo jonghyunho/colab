{
  "metadata": {
    "kernelspec": {
      "language": "python",
      "display_name": "Python 3",
      "name": "python3"
    },
    "language_info": {
      "name": "python",
      "version": "3.7.12",
      "mimetype": "text/x-python",
      "codemirror_mode": {
        "name": "ipython",
        "version": 3
      },
      "pygments_lexer": "ipython3",
      "nbconvert_exporter": "python",
      "file_extension": ".py"
    },
    "colab": {
      "provenance": [],
      "include_colab_link": true
    },
    "accelerator": "GPU",
    "gpuClass": "standard"
  },
  "nbformat_minor": 0,
  "nbformat": 4,
  "cells": [
    {
      "cell_type": "markdown",
      "metadata": {
        "id": "view-in-github",
        "colab_type": "text"
      },
      "source": [
        "<a href=\"https://colab.research.google.com/github/jonghyunho/colab/blob/master/Simple_Implementation_of_Pix2Seq_in_PyTorch.ipynb\" target=\"_parent\"><img src=\"https://colab.research.google.com/assets/colab-badge.svg\" alt=\"Open In Colab\"/></a>"
      ]
    },
    {
      "cell_type": "markdown",
      "source": [
        "# Easy Object Detection with Language Modeling: Simple Implementation of Pix2Seq model in PyTorch"
      ],
      "metadata": {
        "id": "CLoLpOvqfe_U"
      }
    },
    {
      "cell_type": "markdown",
      "source": [
        "![](https://raw.githubusercontent.com/moein-shariatnia/Pix2Seq/master/imgs/pix2seq%20-%20framework.png)"
      ],
      "metadata": {
        "id": "N4zdDPPghKIl"
      }
    },
    {
      "cell_type": "markdown",
      "source": [
        "# Introduction"
      ],
      "metadata": {
        "id": "0DLsYm_ufiMD"
      }
    },
    {
      "cell_type": "markdown",
      "source": [
        "Object detection does not have to be a difficult task! I clearly remember the first time I implemented YOLO from scratch and it was a pain to understand how it works under the hood. For the beginners in computer vision applications, I believe that object detection is the hardest one to understand among classification, segmentation, and etc."
      ],
      "metadata": {
        "id": "jRJ7xuFsfqGp"
      }
    },
    {
      "cell_type": "markdown",
      "source": [
        "Once I first heard about the paper \"[Pix2seq: A Language Modeling Framework for Object Detection](https://arxiv.org/abs/2109.10852)\" , I got pretty damn excited and I was sure my next blog post will be about it; so, here I am writing this post and hoping that you'll like it and find the pix2seq model easy to understand and implement."
      ],
      "metadata": {
        "id": "4iXKRgKXfuy5"
      }
    },
    {
      "cell_type": "markdown",
      "source": [
        "At the end of this tutorial, you'll learn to implement a simple model for object detection which produces the following results:"
      ],
      "metadata": {
        "id": "4QoDVmXzgRY7"
      }
    },
    {
      "cell_type": "markdown",
      "source": [
        "![link text](https://raw.githubusercontent.com/moein-shariatnia/Pix2Seq/master/imgs/results3.jpg)"
      ],
      "metadata": {
        "id": "jF_EL8hugSin"
      }
    },
    {
      "cell_type": "markdown",
      "source": [
        "## What's interesting about this paper"
      ],
      "metadata": {
        "id": "5yzotDyzgsLu"
      }
    },
    {
      "cell_type": "markdown",
      "source": [
        "The idea is pretty simple: Reframe the object detection problem as a task of text (token) generation! We want the model to \"tell us\" what objects exist in the image and also the (x, y) coordinates of their bounding boxes (bboxes), all in a specific format in the generated sequence; just like text generation!"
      ],
      "metadata": {
        "id": "bfluGvr1gsJb"
      }
    },
    {
      "cell_type": "markdown",
      "source": [
        "![](https://raw.githubusercontent.com/moein-shariatnia/Pix2Seq/master/imgs/pix2seq.png)"
      ],
      "metadata": {
        "id": "BEEUl5CegsHV"
      }
    },
    {
      "cell_type": "markdown",
      "source": [
        "As you see, the object detection task is transformed to an image-captioning-ish task: describe the image in text (sequence) but this time tell us exactly where the objects are."
      ],
      "metadata": {
        "id": "uyESfT6Bg0Fv"
      }
    },
    {
      "cell_type": "markdown",
      "source": [
        "# Pix2Seq: Simple Implementation"
      ],
      "metadata": {
        "id": "A1ccBWwng315"
      }
    },
    {
      "cell_type": "markdown",
      "source": [
        "## Needed Modules"
      ],
      "metadata": {
        "id": "SEnPYb_Hg5pg"
      }
    },
    {
      "cell_type": "markdown",
      "source": [
        "The closest task to what Pix2Seq does is image-captioning. So, we are going to need an image encoder to convert an image into vectors of hidden representation and then a decoder to take the image representations and those of the previously generated tokens and predict the next token. We also need a tokenizer to convert object classes and coordinates into tokens that form their special vocabulary; just like the words in a natural language."
      ],
      "metadata": {
        "id": "sOZxD31kg9O3"
      }
    },
    {
      "cell_type": "markdown",
      "source": [
        "## My Simple Implementation of Pix2Seq"
      ],
      "metadata": {
        "id": "wzBX6FJWhBG9"
      }
    },
    {
      "cell_type": "markdown",
      "source": [
        "![](https://raw.githubusercontent.com/moein-shariatnia/Pix2Seq/master/imgs/pix2seq%20-%20framework.png)"
      ],
      "metadata": {
        "id": "mHFV1ryfhBFF"
      }
    },
    {
      "cell_type": "markdown",
      "source": [
        "You can see the high level pipeline of this project in the picture above. As you see, we need a dataset of images and their bboxes for which we will use Pascal VOC 2012 dataset. Next, we will write our own tokenizer from scratch to convert the bbox classes and coordinates into a sequence of tokens. Then, we will use DeiT [(from this paper)](https://arxiv.org/abs/2012.12877) as our image encoder and feed the image embeddings to a vanilla Transformer Decoder [(from this paper)](https://arxiv.org/abs/1706.03762?amp=1). The decoder's task is to predict the next token given the previous ones. The outputs of the decoder are given to the language modeling loss function."
      ],
      "metadata": {
        "id": "26qsPVWXhDeg"
      }
    },
    {
      "cell_type": "markdown",
      "source": [
        "# Installation"
      ],
      "metadata": {
        "id": "MMDy77nHb6z5"
      }
    },
    {
      "cell_type": "code",
      "source": [
        "!pip install timm -q\n",
        "!pip install transformers -q"
      ],
      "metadata": {
        "id": "FhjOTjXOU96Z",
        "outputId": "521222ba-6563-4d61-b62c-eff4a64bde63",
        "trusted": true,
        "colab": {
          "base_uri": "https://localhost:8080/"
        }
      },
      "execution_count": null,
      "outputs": [
        {
          "output_type": "stream",
          "name": "stdout",
          "text": [
            "\u001b[K     |████████████████████████████████| 509 kB 33.8 MB/s \n",
            "\u001b[K     |████████████████████████████████| 4.7 MB 29.1 MB/s \n",
            "\u001b[K     |████████████████████████████████| 6.6 MB 60.7 MB/s \n",
            "\u001b[K     |████████████████████████████████| 101 kB 12.2 MB/s \n",
            "\u001b[?25h"
          ]
        }
      ]
    },
    {
      "cell_type": "markdown",
      "source": [
        "# Imports"
      ],
      "metadata": {
        "id": "GGNZ8wMqb-Cn"
      }
    },
    {
      "cell_type": "code",
      "source": [
        "import gc\n",
        "import os\n",
        "import cv2\n",
        "import math\n",
        "import random\n",
        "from glob import glob\n",
        "import numpy as np\n",
        "import pandas as pd\n",
        "from functools import partial\n",
        "from tqdm import tqdm\n",
        "import matplotlib.pyplot as plt\n",
        "\n",
        "import albumentations as A\n",
        "import xml.etree.ElementTree as ET\n",
        "from sklearn.model_selection import StratifiedGroupKFold\n",
        "\n",
        "import torch\n",
        "from torch import nn\n",
        "import torch.nn.functional as F\n",
        "from torch.nn.utils.rnn import pad_sequence\n",
        "\n",
        "import timm\n",
        "from timm.models.layers import trunc_normal_\n",
        "\n",
        "import transformers\n",
        "from transformers import top_k_top_p_filtering\n",
        "from transformers import get_linear_schedule_with_warmup"
      ],
      "metadata": {
        "id": "0YTPtqoyVLSC",
        "execution": {
          "iopub.status.busy": "2022-08-19T12:52:13.465925Z",
          "iopub.execute_input": "2022-08-19T12:52:13.466398Z",
          "iopub.status.idle": "2022-08-19T12:52:19.217498Z",
          "shell.execute_reply.started": "2022-08-19T12:52:13.466291Z",
          "shell.execute_reply": "2022-08-19T12:52:19.216447Z"
        },
        "trusted": true
      },
      "execution_count": null,
      "outputs": []
    },
    {
      "cell_type": "code",
      "source": [
        "def seed_everything(seed=1234):\n",
        "    random.seed(seed)\n",
        "    os.environ['PYTHONHASHSEED'] = str(seed)\n",
        "    np.random.seed(seed)\n",
        "    torch.manual_seed(seed)\n",
        "    torch.cuda.manual_seed(seed)\n",
        "    torch.backends.cudnn.deterministic = True\n",
        "seed_everything(seed=42)"
      ],
      "metadata": {
        "execution": {
          "iopub.status.busy": "2022-08-19T12:52:19.222838Z",
          "iopub.execute_input": "2022-08-19T12:52:19.225468Z",
          "iopub.status.idle": "2022-08-19T12:52:19.235024Z",
          "shell.execute_reply.started": "2022-08-19T12:52:19.225425Z",
          "shell.execute_reply": "2022-08-19T12:52:19.234201Z"
        },
        "trusted": true,
        "id": "-WeV2AJhLAZW"
      },
      "execution_count": null,
      "outputs": []
    },
    {
      "cell_type": "markdown",
      "source": [
        "# Config"
      ],
      "metadata": {
        "id": "-P90ymvaLAZW"
      }
    },
    {
      "cell_type": "markdown",
      "source": [
        "This will be where we store the most important variables in order to have a quick access to them."
      ],
      "metadata": {
        "id": "UEmUqskUhkdu"
      }
    },
    {
      "cell_type": "code",
      "source": [
        "class CFG:\n",
        "    img_path = \"/content/VOCdevkit/VOC2012/JPEGImages\"\n",
        "    xml_path =  \"/content/VOCdevkit/VOC2012/Annotations\"\n",
        "    device = torch.device('cuda' if torch.cuda.is_available() else 'cpu')\n",
        "\n",
        "    max_len = 300\n",
        "    img_size = 384\n",
        "    num_bins = img_size\n",
        "\n",
        "    batch_size = 16\n",
        "    epochs = 10\n",
        "\n",
        "    model_name = 'deit3_small_patch16_384_in21ft1k'\n",
        "    num_patches = 576\n",
        "    lr = 1e-4\n",
        "    weight_decay = 1e-4\n",
        "\n",
        "    generation_steps = 101"
      ],
      "metadata": {
        "execution": {
          "iopub.status.busy": "2022-08-19T12:52:43.100336Z",
          "iopub.execute_input": "2022-08-19T12:52:43.100748Z",
          "iopub.status.idle": "2022-08-19T12:52:43.107952Z",
          "shell.execute_reply.started": "2022-08-19T12:52:43.100716Z",
          "shell.execute_reply": "2022-08-19T12:52:43.105880Z"
        },
        "trusted": true,
        "id": "l8RcBmvpLAZX"
      },
      "execution_count": null,
      "outputs": []
    },
    {
      "cell_type": "markdown",
      "source": [
        "# Download and Extract data"
      ],
      "metadata": {
        "id": "FRnFmDt7LAZX"
      }
    },
    {
      "cell_type": "code",
      "source": [
        "!wget -O \"/content/trainval.tar\" \"http://host.robots.ox.ac.uk/pascal/VOC/voc2012/VOCtrainval_11-May-2012.tar\""
      ],
      "metadata": {
        "colab": {
          "base_uri": "https://localhost:8080/"
        },
        "id": "lQysdnGOLZOd",
        "outputId": "a1e7d210-185e-4485-9638-c657b44e3b37"
      },
      "execution_count": null,
      "outputs": [
        {
          "output_type": "stream",
          "name": "stdout",
          "text": [
            "--2022-08-23 08:58:08--  http://host.robots.ox.ac.uk/pascal/VOC/voc2012/VOCtrainval_11-May-2012.tar\n",
            "Resolving host.robots.ox.ac.uk (host.robots.ox.ac.uk)... 129.67.94.152\n",
            "Connecting to host.robots.ox.ac.uk (host.robots.ox.ac.uk)|129.67.94.152|:80... connected.\n",
            "HTTP request sent, awaiting response... 200 OK\n",
            "Length: 1999639040 (1.9G) [application/x-tar]\n",
            "Saving to: ‘/content/trainval.tar’\n",
            "\n",
            "/content/trainval.t 100%[===================>]   1.86G  14.5MB/s    in 2m 30s  \n",
            "\n",
            "2022-08-23 09:00:40 (12.7 MB/s) - ‘/content/trainval.tar’ saved [1999639040/1999639040]\n",
            "\n"
          ]
        }
      ]
    },
    {
      "cell_type": "code",
      "source": [
        "!tar -xvf \"/content/trainval.tar\" > /dev/null"
      ],
      "metadata": {
        "id": "zhKb1BBCVVJK",
        "trusted": true
      },
      "execution_count": null,
      "outputs": []
    },
    {
      "cell_type": "code",
      "source": [
        "IMG_FILES = glob(CFG.img_path + \"/*.jpg\")\n",
        "XML_FILES = glob(CFG.xml_path + \"/*.xml\")\n",
        "len(XML_FILES), len(IMG_FILES)"
      ],
      "metadata": {
        "id": "Q6tq3xWBX96L",
        "outputId": "548b65a0-aab9-48df-cde9-ee442fa04151",
        "execution": {
          "iopub.status.busy": "2022-08-19T12:52:19.302631Z",
          "iopub.execute_input": "2022-08-19T12:52:19.303081Z",
          "iopub.status.idle": "2022-08-19T12:52:19.481680Z",
          "shell.execute_reply.started": "2022-08-19T12:52:19.303008Z",
          "shell.execute_reply": "2022-08-19T12:52:19.480715Z"
        },
        "trusted": true,
        "colab": {
          "base_uri": "https://localhost:8080/"
        }
      },
      "execution_count": null,
      "outputs": [
        {
          "output_type": "execute_result",
          "data": {
            "text/plain": [
              "(17125, 17125)"
            ]
          },
          "metadata": {},
          "execution_count": 7
        }
      ]
    },
    {
      "cell_type": "markdown",
      "source": [
        "## Process XML files and build the dataframe"
      ],
      "metadata": {
        "id": "QAHih3vYcHs6"
      }
    },
    {
      "cell_type": "code",
      "source": [
        "class XMLParser:\n",
        "    def __init__(self,xml_file):\n",
        "\n",
        "        self.xml_file = xml_file\n",
        "        self._root = ET.parse(self.xml_file).getroot()\n",
        "        self._objects = self._root.findall(\"object\")\n",
        "        # path to the image file as describe in the xml file\n",
        "        self.img_path = os.path.join(CFG.img_path, self._root.find('filename').text)\n",
        "        # image id\n",
        "        self.image_id = self._root.find(\"filename\").text\n",
        "        # names of the classes contained in the xml file\n",
        "        self.names = self._get_names()\n",
        "        # coordinates of the bounding boxes\n",
        "        self.boxes = self._get_bndbox()\n",
        "\n",
        "    def parse_xml(self):\n",
        "        \"\"\"\"Parse the xml file returning the root.\"\"\"\n",
        "\n",
        "        tree = ET.parse(self.xml_file)\n",
        "        return tree.getroot()\n",
        "\n",
        "    def _get_names(self):\n",
        "\n",
        "        names = []\n",
        "        for obj in self._objects:\n",
        "            name = obj.find(\"name\")\n",
        "            names.append(name.text)\n",
        "\n",
        "        return np.array(names)\n",
        "\n",
        "    def _get_bndbox(self):\n",
        "\n",
        "        boxes = []\n",
        "        for obj in self._objects:\n",
        "            coordinates = []\n",
        "            bndbox = obj.find(\"bndbox\")\n",
        "            coordinates.append(np.int32(bndbox.find(\"xmin\").text))\n",
        "            coordinates.append(np.int32(np.float32(bndbox.find(\"ymin\").text)))\n",
        "            coordinates.append(np.int32(bndbox.find(\"xmax\").text))\n",
        "            coordinates.append(np.int32(bndbox.find(\"ymax\").text))\n",
        "            boxes.append(coordinates)\n",
        "\n",
        "        return np.array(boxes)\n",
        "\n",
        "def xml_files_to_df(xml_files):\n",
        "\n",
        "    \"\"\"\"Return pandas dataframe from list of XML files.\"\"\"\n",
        "\n",
        "    names = []\n",
        "    boxes = []\n",
        "    image_id = []\n",
        "    xml_path = []\n",
        "    img_path = []\n",
        "    for f in xml_files:\n",
        "        xml = XMLParser(f)\n",
        "        names.extend(xml.names)\n",
        "        boxes.extend(xml.boxes)\n",
        "        image_id.extend([xml.image_id] * len(xml.names))\n",
        "        xml_path.extend([xml.xml_file] * len(xml.names))\n",
        "        img_path.extend([xml.img_path] * len(xml.names))\n",
        "    a = {\"image_id\": image_id,\n",
        "         \"names\": names,\n",
        "         \"boxes\": boxes,\n",
        "         \"xml_path\":xml_path,\n",
        "         \"img_path\":img_path}\n",
        "\n",
        "    df = pd.DataFrame.from_dict(a, orient='index')\n",
        "    df = df.transpose()\n",
        "\n",
        "    df['xmin'] = -1\n",
        "    df['ymin'] = -1\n",
        "    df['xmax'] = -1\n",
        "    df['ymax'] = -1\n",
        "\n",
        "    df[['xmin','ymin','xmax','ymax']] = np.stack([df['boxes'][i] for i in range(len(df['boxes']))])\n",
        "\n",
        "    df.drop(columns=['boxes'], inplace=True)\n",
        "    df['xmin'] = df['xmin'].astype('float32')\n",
        "    df['ymin'] = df['ymin'].astype('float32')\n",
        "    df['xmax'] = df['xmax'].astype('float32')\n",
        "    df['ymax'] = df['ymax'].astype('float32')\n",
        "\n",
        "    df['id'] = df['image_id'].map(lambda x: x.split(\".jpg\")[0])\n",
        "\n",
        "    return df\n",
        "\n",
        "def build_df(xml_files):\n",
        "    # parse xml files and create pandas dataframe\n",
        "    df = xml_files_to_df(xml_files)\n",
        "\n",
        "\n",
        "    classes = sorted(df['names'].unique())\n",
        "    cls2id = {cls_name: i for i, cls_name in enumerate(classes)}\n",
        "    df['label'] = df['names'].map(cls2id)\n",
        "\n",
        "    # in this df, each object of a given image is in a separate row\n",
        "    df = df[['id', 'label', 'xmin', 'ymin', 'xmax', 'ymax', 'img_path']]\n",
        "\n",
        "    return df, classes"
      ],
      "metadata": {
        "id": "LfCeQoGlYXix",
        "execution": {
          "iopub.status.busy": "2022-08-19T12:52:20.379856Z",
          "iopub.execute_input": "2022-08-19T12:52:20.380216Z",
          "iopub.status.idle": "2022-08-19T12:52:20.400516Z",
          "shell.execute_reply.started": "2022-08-19T12:52:20.380185Z",
          "shell.execute_reply": "2022-08-19T12:52:20.399440Z"
        },
        "trusted": true
      },
      "execution_count": null,
      "outputs": []
    },
    {
      "cell_type": "code",
      "source": [
        "df, classes = build_df(XML_FILES)\n",
        "cls2id = {cls_name: i for i, cls_name in enumerate(classes)}\n",
        "id2cls = {i: cls_name for i, cls_name in enumerate(classes)}\n",
        "\n",
        "print(len(classes))\n",
        "df.head()"
      ],
      "metadata": {
        "execution": {
          "iopub.status.busy": "2022-08-19T12:52:20.542664Z",
          "iopub.execute_input": "2022-08-19T12:52:20.544708Z",
          "iopub.status.idle": "2022-08-19T12:52:23.660911Z",
          "shell.execute_reply.started": "2022-08-19T12:52:20.544659Z",
          "shell.execute_reply": "2022-08-19T12:52:23.659783Z"
        },
        "trusted": true,
        "colab": {
          "base_uri": "https://localhost:8080/",
          "height": 224
        },
        "id": "knCEq7-qLAZZ",
        "outputId": "6cd935ef-7918-49cd-e0e6-2c2eff1ce84d"
      },
      "execution_count": null,
      "outputs": [
        {
          "output_type": "stream",
          "name": "stdout",
          "text": [
            "20\n"
          ]
        },
        {
          "output_type": "execute_result",
          "data": {
            "text/plain": [
              "            id  label   xmin   ymin   xmax   ymax  \\\n",
              "0  2009_003707      3    1.0  187.0  116.0  252.0   \n",
              "1  2011_003250     14  315.0   32.0  414.0  251.0   \n",
              "2  2009_001443     14  388.0  139.0  464.0  251.0   \n",
              "3  2009_001443     13  255.0  208.0  392.0  297.0   \n",
              "4  2010_000018     17  137.0  147.0  500.0  375.0   \n",
              "\n",
              "                                            img_path  \n",
              "0  /content/VOCdevkit/VOC2012/JPEGImages/2009_003...  \n",
              "1  /content/VOCdevkit/VOC2012/JPEGImages/2011_003...  \n",
              "2  /content/VOCdevkit/VOC2012/JPEGImages/2009_001...  \n",
              "3  /content/VOCdevkit/VOC2012/JPEGImages/2009_001...  \n",
              "4  /content/VOCdevkit/VOC2012/JPEGImages/2010_000...  "
            ],
            "text/html": [
              "\n",
              "  <div id=\"df-0cc9100d-7549-4b51-acee-1d15f3992473\">\n",
              "    <div class=\"colab-df-container\">\n",
              "      <div>\n",
              "<style scoped>\n",
              "    .dataframe tbody tr th:only-of-type {\n",
              "        vertical-align: middle;\n",
              "    }\n",
              "\n",
              "    .dataframe tbody tr th {\n",
              "        vertical-align: top;\n",
              "    }\n",
              "\n",
              "    .dataframe thead th {\n",
              "        text-align: right;\n",
              "    }\n",
              "</style>\n",
              "<table border=\"1\" class=\"dataframe\">\n",
              "  <thead>\n",
              "    <tr style=\"text-align: right;\">\n",
              "      <th></th>\n",
              "      <th>id</th>\n",
              "      <th>label</th>\n",
              "      <th>xmin</th>\n",
              "      <th>ymin</th>\n",
              "      <th>xmax</th>\n",
              "      <th>ymax</th>\n",
              "      <th>img_path</th>\n",
              "    </tr>\n",
              "  </thead>\n",
              "  <tbody>\n",
              "    <tr>\n",
              "      <th>0</th>\n",
              "      <td>2009_003707</td>\n",
              "      <td>3</td>\n",
              "      <td>1.0</td>\n",
              "      <td>187.0</td>\n",
              "      <td>116.0</td>\n",
              "      <td>252.0</td>\n",
              "      <td>/content/VOCdevkit/VOC2012/JPEGImages/2009_003...</td>\n",
              "    </tr>\n",
              "    <tr>\n",
              "      <th>1</th>\n",
              "      <td>2011_003250</td>\n",
              "      <td>14</td>\n",
              "      <td>315.0</td>\n",
              "      <td>32.0</td>\n",
              "      <td>414.0</td>\n",
              "      <td>251.0</td>\n",
              "      <td>/content/VOCdevkit/VOC2012/JPEGImages/2011_003...</td>\n",
              "    </tr>\n",
              "    <tr>\n",
              "      <th>2</th>\n",
              "      <td>2009_001443</td>\n",
              "      <td>14</td>\n",
              "      <td>388.0</td>\n",
              "      <td>139.0</td>\n",
              "      <td>464.0</td>\n",
              "      <td>251.0</td>\n",
              "      <td>/content/VOCdevkit/VOC2012/JPEGImages/2009_001...</td>\n",
              "    </tr>\n",
              "    <tr>\n",
              "      <th>3</th>\n",
              "      <td>2009_001443</td>\n",
              "      <td>13</td>\n",
              "      <td>255.0</td>\n",
              "      <td>208.0</td>\n",
              "      <td>392.0</td>\n",
              "      <td>297.0</td>\n",
              "      <td>/content/VOCdevkit/VOC2012/JPEGImages/2009_001...</td>\n",
              "    </tr>\n",
              "    <tr>\n",
              "      <th>4</th>\n",
              "      <td>2010_000018</td>\n",
              "      <td>17</td>\n",
              "      <td>137.0</td>\n",
              "      <td>147.0</td>\n",
              "      <td>500.0</td>\n",
              "      <td>375.0</td>\n",
              "      <td>/content/VOCdevkit/VOC2012/JPEGImages/2010_000...</td>\n",
              "    </tr>\n",
              "  </tbody>\n",
              "</table>\n",
              "</div>\n",
              "      <button class=\"colab-df-convert\" onclick=\"convertToInteractive('df-0cc9100d-7549-4b51-acee-1d15f3992473')\"\n",
              "              title=\"Convert this dataframe to an interactive table.\"\n",
              "              style=\"display:none;\">\n",
              "        \n",
              "  <svg xmlns=\"http://www.w3.org/2000/svg\" height=\"24px\"viewBox=\"0 0 24 24\"\n",
              "       width=\"24px\">\n",
              "    <path d=\"M0 0h24v24H0V0z\" fill=\"none\"/>\n",
              "    <path d=\"M18.56 5.44l.94 2.06.94-2.06 2.06-.94-2.06-.94-.94-2.06-.94 2.06-2.06.94zm-11 1L8.5 8.5l.94-2.06 2.06-.94-2.06-.94L8.5 2.5l-.94 2.06-2.06.94zm10 10l.94 2.06.94-2.06 2.06-.94-2.06-.94-.94-2.06-.94 2.06-2.06.94z\"/><path d=\"M17.41 7.96l-1.37-1.37c-.4-.4-.92-.59-1.43-.59-.52 0-1.04.2-1.43.59L10.3 9.45l-7.72 7.72c-.78.78-.78 2.05 0 2.83L4 21.41c.39.39.9.59 1.41.59.51 0 1.02-.2 1.41-.59l7.78-7.78 2.81-2.81c.8-.78.8-2.07 0-2.86zM5.41 20L4 18.59l7.72-7.72 1.47 1.35L5.41 20z\"/>\n",
              "  </svg>\n",
              "      </button>\n",
              "      \n",
              "  <style>\n",
              "    .colab-df-container {\n",
              "      display:flex;\n",
              "      flex-wrap:wrap;\n",
              "      gap: 12px;\n",
              "    }\n",
              "\n",
              "    .colab-df-convert {\n",
              "      background-color: #E8F0FE;\n",
              "      border: none;\n",
              "      border-radius: 50%;\n",
              "      cursor: pointer;\n",
              "      display: none;\n",
              "      fill: #1967D2;\n",
              "      height: 32px;\n",
              "      padding: 0 0 0 0;\n",
              "      width: 32px;\n",
              "    }\n",
              "\n",
              "    .colab-df-convert:hover {\n",
              "      background-color: #E2EBFA;\n",
              "      box-shadow: 0px 1px 2px rgba(60, 64, 67, 0.3), 0px 1px 3px 1px rgba(60, 64, 67, 0.15);\n",
              "      fill: #174EA6;\n",
              "    }\n",
              "\n",
              "    [theme=dark] .colab-df-convert {\n",
              "      background-color: #3B4455;\n",
              "      fill: #D2E3FC;\n",
              "    }\n",
              "\n",
              "    [theme=dark] .colab-df-convert:hover {\n",
              "      background-color: #434B5C;\n",
              "      box-shadow: 0px 1px 3px 1px rgba(0, 0, 0, 0.15);\n",
              "      filter: drop-shadow(0px 1px 2px rgba(0, 0, 0, 0.3));\n",
              "      fill: #FFFFFF;\n",
              "    }\n",
              "  </style>\n",
              "\n",
              "      <script>\n",
              "        const buttonEl =\n",
              "          document.querySelector('#df-0cc9100d-7549-4b51-acee-1d15f3992473 button.colab-df-convert');\n",
              "        buttonEl.style.display =\n",
              "          google.colab.kernel.accessAllowed ? 'block' : 'none';\n",
              "\n",
              "        async function convertToInteractive(key) {\n",
              "          const element = document.querySelector('#df-0cc9100d-7549-4b51-acee-1d15f3992473');\n",
              "          const dataTable =\n",
              "            await google.colab.kernel.invokeFunction('convertToInteractive',\n",
              "                                                     [key], {});\n",
              "          if (!dataTable) return;\n",
              "\n",
              "          const docLinkHtml = 'Like what you see? Visit the ' +\n",
              "            '<a target=\"_blank\" href=https://colab.research.google.com/notebooks/data_table.ipynb>data table notebook</a>'\n",
              "            + ' to learn more about interactive tables.';\n",
              "          element.innerHTML = '';\n",
              "          dataTable['output_type'] = 'display_data';\n",
              "          await google.colab.output.renderOutput(dataTable, element);\n",
              "          const docLink = document.createElement('div');\n",
              "          docLink.innerHTML = docLinkHtml;\n",
              "          element.appendChild(docLink);\n",
              "        }\n",
              "      </script>\n",
              "    </div>\n",
              "  </div>\n",
              "  "
            ]
          },
          "metadata": {},
          "execution_count": 9
        }
      ]
    },
    {
      "cell_type": "markdown",
      "source": [
        "## Split dataframe to train and validation sets"
      ],
      "metadata": {
        "id": "FzttaFsiLAZZ"
      }
    },
    {
      "cell_type": "code",
      "source": [
        "def split_df(df, n_folds=5, training_fold=0):\n",
        "    mapping = df.groupby(\"id\")['img_path'].agg(len).to_dict()\n",
        "    df['stratify'] = df['id'].map(mapping)\n",
        "\n",
        "    kfold = StratifiedGroupKFold(\n",
        "        n_splits=n_folds, shuffle=True, random_state=42)\n",
        "\n",
        "    for i, (_, val_idx) in enumerate(kfold.split(df, y=df['stratify'], groups=df['id'])):\n",
        "        df.loc[val_idx, 'fold'] = i\n",
        "\n",
        "    train_df = df[df['fold'] != training_fold].reset_index(drop=True)\n",
        "    valid_df = df[df['fold'] == training_fold].reset_index(drop=True)\n",
        "\n",
        "    return train_df, valid_df"
      ],
      "metadata": {
        "execution": {
          "iopub.status.busy": "2022-08-19T12:52:23.663254Z",
          "iopub.execute_input": "2022-08-19T12:52:23.663664Z",
          "iopub.status.idle": "2022-08-19T12:52:23.671682Z",
          "shell.execute_reply.started": "2022-08-19T12:52:23.663627Z",
          "shell.execute_reply": "2022-08-19T12:52:23.670330Z"
        },
        "trusted": true,
        "id": "Vr_CwHNlLAZZ"
      },
      "execution_count": null,
      "outputs": []
    },
    {
      "cell_type": "code",
      "source": [
        "train_df, valid_df = split_df(df)\n",
        "print(\"Train size: \", train_df['id'].nunique())\n",
        "print(\"Valid size: \", valid_df['id'].nunique())"
      ],
      "metadata": {
        "execution": {
          "iopub.status.busy": "2022-08-19T12:52:23.673687Z",
          "iopub.execute_input": "2022-08-19T12:52:23.674592Z",
          "iopub.status.idle": "2022-08-19T12:52:31.097148Z",
          "shell.execute_reply.started": "2022-08-19T12:52:23.674553Z",
          "shell.execute_reply": "2022-08-19T12:52:31.096052Z"
        },
        "trusted": true,
        "colab": {
          "base_uri": "https://localhost:8080/"
        },
        "id": "ukf32XNZLAZZ",
        "outputId": "23d6e7b6-1ebf-411d-fc2a-f6497a118a87"
      },
      "execution_count": null,
      "outputs": [
        {
          "output_type": "stream",
          "name": "stdout",
          "text": [
            "Train size:  13700\n",
            "Valid size:  3425\n"
          ]
        }
      ]
    },
    {
      "cell_type": "markdown",
      "source": [
        "# Building Dataset and Data Loaders"
      ],
      "metadata": {
        "id": "LYUu7nxkLAZa"
      }
    },
    {
      "cell_type": "markdown",
      "source": [
        "As I mentioned earlier, we will use VOC 2012 dataset with 17125 images and their corresponding objects from 20 classes. The paper uses COCO dataset which is an order of magnitude larger than VOC and they also pre-train the models on a much larger dataset before training on COCO. But, to stay simple, I'm gonna use this rather small VOC dataset."
      ],
      "metadata": {
        "id": "6pigtDEkh0KY"
      }
    },
    {
      "cell_type": "markdown",
      "source": [
        "```classes = [\n",
        "  \"aeroplane\", \"bicycle\", \"bird\", \"boat\", \"bottle\",\n",
        "  \"bus\", \"car\", \"cat\", \"chair\", \"cow\",\n",
        "  \"diningtable\", \"dog\", \"horse\", \"motorbike\", \"person\"\n",
        "  \"pottedplant\", \"sheep\", \"sofa\", \"train\", \"tvmonitor\"\n",
        "]```"
      ],
      "metadata": {
        "id": "82M8w0bmiDIP"
      }
    },
    {
      "cell_type": "code",
      "source": [
        "def get_transform_train(size):\n",
        "    return A.Compose([\n",
        "        A.HorizontalFlip(p=0.5),\n",
        "        A.RandomBrightnessContrast(p=0.2),\n",
        "        A.Resize(size, size),\n",
        "        A.Normalize(),\n",
        "    ], bbox_params={'format': 'pascal_voc', 'label_fields': ['labels']})\n",
        "\n",
        "\n",
        "def get_transform_valid(size):\n",
        "    return A.Compose([\n",
        "        A.Resize(size, size),\n",
        "        A.Normalize(),\n",
        "    ], bbox_params={'format': 'pascal_voc', 'label_fields': ['labels']})"
      ],
      "metadata": {
        "execution": {
          "iopub.status.busy": "2022-08-19T12:52:31.131250Z",
          "iopub.execute_input": "2022-08-19T12:52:31.131663Z",
          "iopub.status.idle": "2022-08-19T12:52:31.140581Z",
          "shell.execute_reply.started": "2022-08-19T12:52:31.131593Z",
          "shell.execute_reply": "2022-08-19T12:52:31.139645Z"
        },
        "trusted": true,
        "id": "YGs0_w6QLAZa"
      },
      "execution_count": null,
      "outputs": []
    },
    {
      "cell_type": "markdown",
      "source": [
        "We need a PyTorch dataset class that gives us an image and its bbox coordinates and classes in form of a sequence."
      ],
      "metadata": {
        "id": "qi98per_iLVd"
      }
    },
    {
      "cell_type": "code",
      "source": [
        "class VOCDataset(torch.utils.data.Dataset):\n",
        "    def __init__(self, df, transforms=None, tokenizer=None):\n",
        "        self.ids = df['id'].unique()\n",
        "        self.df = df\n",
        "        self.transforms = transforms\n",
        "        self.tokenizer = tokenizer\n",
        "\n",
        "    def __getitem__(self, idx):\n",
        "        sample = self.df[self.df['id'] == self.ids[idx]]\n",
        "        img_path = sample['img_path'].values[0]\n",
        "\n",
        "        img = cv2.imread(img_path)[..., ::-1]\n",
        "        labels = sample['label'].values\n",
        "        bboxes = sample[['xmin', 'ymin', 'xmax', 'ymax']].values\n",
        "\n",
        "        if self.transforms is not None:\n",
        "            transformed = self.transforms(**{\n",
        "                'image': img,\n",
        "                'bboxes': bboxes,\n",
        "                'labels': labels\n",
        "            })\n",
        "            img = transformed['image']\n",
        "            bboxes = transformed['bboxes']\n",
        "            labels = transformed['labels']\n",
        "\n",
        "        img = torch.FloatTensor(img).permute(2, 0, 1)\n",
        "\n",
        "        if self.tokenizer is not None:\n",
        "            seqs = self.tokenizer(labels, bboxes)\n",
        "            seqs = torch.LongTensor(seqs)\n",
        "            return img, seqs\n",
        "\n",
        "        return img, labels, bboxes\n",
        "\n",
        "    def __len__(self):\n",
        "        return len(self.ids)"
      ],
      "metadata": {
        "execution": {
          "iopub.status.busy": "2022-08-19T12:52:31.142099Z",
          "iopub.execute_input": "2022-08-19T12:52:31.142768Z",
          "iopub.status.idle": "2022-08-19T12:52:31.153376Z",
          "shell.execute_reply.started": "2022-08-19T12:52:31.142732Z",
          "shell.execute_reply": "2022-08-19T12:52:31.152432Z"
        },
        "trusted": true,
        "id": "5VhcKax-LAZa"
      },
      "execution_count": null,
      "outputs": []
    },
    {
      "cell_type": "markdown",
      "source": [
        "As you see, most of the code here is what you expect from a simple dataset for classification but there are small differences too. We need a Tokenizer to convert our labels and bbox coordinates (x and y) to a sequence so that we can perform train our model for the language modeling task (predicting the next tokens conditioned on the previously seen tokens)."
      ],
      "metadata": {
        "id": "p9yBtAZTiOHV"
      }
    },
    {
      "cell_type": "markdown",
      "source": [
        "## Tokenizer"
      ],
      "metadata": {
        "id": "18UuPNZrLAZZ"
      }
    },
    {
      "cell_type": "markdown",
      "source": [
        "How are we going to convert these information into a sequence? Well, it's not that difficult. To represent an object in an image, we need 5 numbers: 4 coordinate numbers and 1 to indicate which class it belongs to.\n",
        "You actually need to know the coordinates of 2 points of a bounding box to be able to draw it in an image; in pascal format, we use the top left point and the bottom right point of the bbox as those 2 critical points and each point is represented by its x and y values → so, we will need 4 numbers overall to draw a bounding box. You can see alternative formats to represent a bounding box down below. Also, look at where the start of x and y axis is (the 0, 0 point)."
      ],
      "metadata": {
        "id": "2N4SgMEria4i"
      }
    },
    {
      "cell_type": "markdown",
      "source": [
        "![](https://albumentations.ai/docs/images/getting_started/augmenting_bboxes/bbox_example.jpg)"
      ],
      "metadata": {
        "id": "_ouQwaMdigI9"
      }
    },
    {
      "cell_type": "markdown",
      "source": [
        "As you see in the dataset's code, we give the bbox coordinates and labels to our tokenizer and get a simple list of tokens out. The tokenizer needs to do the following tasks:\n",
        "1. mark the start and end of the sequence w/ especial tokens (BOS and EOS tokens).\n",
        "2. quantize the continuous value of coordinates (we can have x=34.7 as the coordinate of a point but we need discrete values like 34 as our tokens because we are finally doing a classification on a finite set of tokens)\n",
        "3. encode the label of the objects into their corresponding tokens\n",
        "4. randomize the order of objects in the final sequence (more on this below)\n",
        "\n",
        "If you are familiar with NLP applications, these steps might sound familiar to you as they are also done when we are dealing with words in a natural language; we need to tokenize them and assign each word to its own discrete token, mark the start and end of the sequence, etc.\n",
        "Regarding the number 4 in this list, this is what the paper does and there is an extensive ablation study on whether it is a good idea. What it says is that each time that we show the same image to the model (in different epochs), we randomize the order in which the objects appear in the corresponding sequence which we feed to the model (with one token shifted) and our loss function. For example, if there is a \"person\", a \"car\", and a \"cat\" in an image, the tokenizer and dataset will put these objects in random order in the sequence:\n",
        "- BOS, car_xmin, car_ymin, car_xmax, car_ymax, car_label, person_xmin, person_ymin, person_xmax, person_ymax, person_label, cat_xmin, cat_ymin, cat_xmax, cat_ymax, cat_label, EOS\n",
        "- BOS, person_xmin, person_ymin, person_xmax, person_ymax, person_label, car_xmin, car_ymin, car_xmax, car_ymax, car_label, cat_xmin, cat_ymin, cat_xmax, cat_ymax, cat_label, EOS\n",
        "- …"
      ],
      "metadata": {
        "id": "1DUCg8-4ipig"
      }
    },
    {
      "cell_type": "code",
      "source": [
        "class Tokenizer:\n",
        "    def __init__(self, num_classes: int, num_bins: int, width: int, height: int, max_len=500):\n",
        "        self.num_classes = num_classes\n",
        "        self.num_bins = num_bins\n",
        "        self.width = width\n",
        "        self.height = height\n",
        "        self.max_len = max_len\n",
        "\n",
        "        self.BOS_code = num_classes + num_bins\n",
        "        self.EOS_code = self.BOS_code + 1\n",
        "        self.PAD_code = self.EOS_code + 1\n",
        "\n",
        "        self.vocab_size = num_classes + num_bins + 3\n",
        "\n",
        "    def quantize(self, x: np.array):\n",
        "        \"\"\"\n",
        "        x is a real number in [0, 1]\n",
        "        \"\"\"\n",
        "        return (x * (self.num_bins - 1)).astype('int')\n",
        "\n",
        "    def dequantize(self, x: np.array):\n",
        "        \"\"\"\n",
        "        x is an integer between [0, num_bins-1]\n",
        "        \"\"\"\n",
        "        return x.astype('float32') / (self.num_bins - 1)\n",
        "\n",
        "    def __call__(self, labels: list, bboxes: list, shuffle=True):\n",
        "        assert len(labels) == len(bboxes), \"labels and bboxes must have the same length\"\n",
        "        bboxes = np.array(bboxes)\n",
        "        labels = np.array(labels)\n",
        "        labels += self.num_bins\n",
        "        labels = labels.astype('int')[:self.max_len]\n",
        "\n",
        "        bboxes[:, 0] = bboxes[:, 0] / self.width\n",
        "        bboxes[:, 2] = bboxes[:, 2] / self.width\n",
        "        bboxes[:, 1] = bboxes[:, 1] / self.height\n",
        "        bboxes[:, 3] = bboxes[:, 3] / self.height\n",
        "\n",
        "        bboxes = self.quantize(bboxes)[:self.max_len]\n",
        "\n",
        "        if shuffle:\n",
        "            rand_idxs = np.arange(0, len(bboxes))\n",
        "            np.random.shuffle(rand_idxs)\n",
        "            labels = labels[rand_idxs]\n",
        "            bboxes = bboxes[rand_idxs]\n",
        "\n",
        "        tokenized = [self.BOS_code]\n",
        "        for label, bbox in zip(labels, bboxes):\n",
        "            tokens = list(bbox)\n",
        "            tokens.append(label)\n",
        "\n",
        "            tokenized.extend(list(map(int, tokens)))\n",
        "        tokenized.append(self.EOS_code)\n",
        "\n",
        "        return tokenized\n",
        "\n",
        "    def decode(self, tokens: torch.tensor):\n",
        "        \"\"\"\n",
        "        toekns: torch.LongTensor with shape [L]\n",
        "        \"\"\"\n",
        "        mask = tokens != self.PAD_code\n",
        "        tokens = tokens[mask]\n",
        "        tokens = tokens[1:-1]\n",
        "        assert len(tokens) % 5 == 0, \"invalid tokens\"\n",
        "\n",
        "        labels = []\n",
        "        bboxes = []\n",
        "        for i in range(4, len(tokens)+1, 5):\n",
        "            label = tokens[i]\n",
        "            bbox = tokens[i-4: i]\n",
        "            labels.append(int(label))\n",
        "            bboxes.append([int(item) for item in bbox])\n",
        "        labels = np.array(labels) - self.num_bins\n",
        "        bboxes = np.array(bboxes)\n",
        "        bboxes = self.dequantize(bboxes)\n",
        "\n",
        "        bboxes[:, 0] = bboxes[:, 0] * self.width\n",
        "        bboxes[:, 2] = bboxes[:, 2] * self.width\n",
        "        bboxes[:, 1] = bboxes[:, 1] * self.height\n",
        "        bboxes[:, 3] = bboxes[:, 3] * self.height\n",
        "\n",
        "        return labels, bboxes"
      ],
      "metadata": {
        "id": "7ChjEy9uiUuw"
      },
      "execution_count": null,
      "outputs": []
    },
    {
      "cell_type": "markdown",
      "source": [
        "Another note on how to quantize the continuous values of coordinates: imagine that the image size is 224. You can have a bbox with these 4 coordinates (12.2, 35.8, 68.1, 120.5).\n",
        "You will need at least 224 tokens (num_bins) to be able to tokenize (quantize) these 4 numbers with a precision of 1 pixel (you will lose information below 1 pixel). As you see in the tokenizer code, to convert this bbox coordinates to their tokenized version, we need to do the following:\n",
        "1. normalize the coordinates (make them between 0 and 1 by dividing them by the max value = 224)\n",
        "2. do this: ```int(x * (num_bins-1))```\n",
        "\n",
        "so, the converted version will be: (12, 35, 67, 119). Remember that int() function in Python does not round the number to the closest integer, but it will keep only the integer part of the number. As you see, we have lost some information on the exact position of the bbox but it is still a very good approximation. We can use a larger number of tokens (num of bins, as stated in the paper) and we will have a more precise location. Our tokenizer also has decode() function which we will use to convert sequences into bbox coordinates and labels."
      ],
      "metadata": {
        "id": "imieBODQixih"
      }
    },
    {
      "cell_type": "code",
      "source": [
        "tokenizer = Tokenizer(num_classes=len(classes), num_bins=CFG.num_bins,\n",
        "                          width=CFG.img_size, height=CFG.img_size, max_len=CFG.max_len)\n",
        "CFG.pad_idx = tokenizer.PAD_code"
      ],
      "metadata": {
        "id": "0znRsw2ViYTp"
      },
      "execution_count": null,
      "outputs": []
    },
    {
      "cell_type": "markdown",
      "source": [
        "## Collate Function"
      ],
      "metadata": {
        "id": "wmuknxK4i2FZ"
      }
    },
    {
      "cell_type": "markdown",
      "source": [
        "Here, we will implement a custom collate_function to give to our PyTorch data loader. This function will take care of Padding for us: to make all the sequences the same length by adding PAD_IDX to the shorter ones in order to be able to build a batch with them. We are going to pad the sequence to a fixed max length of 300 tokens."
      ],
      "metadata": {
        "id": "QB8Uze6Ji3wb"
      }
    },
    {
      "cell_type": "code",
      "source": [
        "def collate_fn(batch, max_len, pad_idx):\n",
        "    \"\"\"\n",
        "    if max_len:\n",
        "        the sequences will all be padded to that length\n",
        "    \"\"\"\n",
        "    image_batch, seq_batch = [], []\n",
        "    for image, seq in batch:\n",
        "        image_batch.append(image)\n",
        "        seq_batch.append(seq)\n",
        "\n",
        "    seq_batch = pad_sequence(\n",
        "        seq_batch, padding_value=pad_idx, batch_first=True)\n",
        "    if max_len:\n",
        "        pad = torch.ones(seq_batch.size(0), max_len -\n",
        "                         seq_batch.size(1)).fill_(pad_idx).long()\n",
        "        seq_batch = torch.cat([seq_batch, pad], dim=1)\n",
        "    image_batch = torch.stack(image_batch)\n",
        "    return image_batch, seq_batch"
      ],
      "metadata": {
        "execution": {
          "iopub.status.busy": "2022-08-19T12:52:31.155978Z",
          "iopub.execute_input": "2022-08-19T12:52:31.156241Z",
          "iopub.status.idle": "2022-08-19T12:52:31.167066Z",
          "shell.execute_reply.started": "2022-08-19T12:52:31.156216Z",
          "shell.execute_reply": "2022-08-19T12:52:31.166185Z"
        },
        "trusted": true,
        "id": "axsgqzt5LAZa"
      },
      "execution_count": null,
      "outputs": []
    },
    {
      "cell_type": "code",
      "source": [
        "def get_loaders(train_df, valid_df, tokenizer, img_size, batch_size, max_len, pad_idx, num_workers=2):\n",
        "\n",
        "    train_ds = VOCDataset(train_df, transforms=get_transform_train(\n",
        "        img_size), tokenizer=tokenizer)\n",
        "\n",
        "    trainloader = torch.utils.data.DataLoader(\n",
        "        train_ds,\n",
        "        batch_size=batch_size,\n",
        "        shuffle=True,\n",
        "        collate_fn=partial(collate_fn, max_len=max_len, pad_idx=pad_idx),\n",
        "        num_workers=num_workers,\n",
        "        pin_memory=True,\n",
        "    )\n",
        "\n",
        "    valid_ds = VOCDataset(valid_df, transforms=get_transform_valid(\n",
        "        img_size), tokenizer=tokenizer)\n",
        "\n",
        "    validloader = torch.utils.data.DataLoader(\n",
        "        valid_ds,\n",
        "        batch_size=batch_size,\n",
        "        shuffle=False,\n",
        "        collate_fn=partial(collate_fn, max_len=max_len, pad_idx=pad_idx),\n",
        "        num_workers=2,\n",
        "        pin_memory=True,\n",
        "    )\n",
        "\n",
        "    return trainloader, validloader"
      ],
      "metadata": {
        "execution": {
          "iopub.status.busy": "2022-08-19T12:52:31.168461Z",
          "iopub.execute_input": "2022-08-19T12:52:31.169753Z",
          "iopub.status.idle": "2022-08-19T12:52:31.178695Z",
          "shell.execute_reply.started": "2022-08-19T12:52:31.169713Z",
          "shell.execute_reply": "2022-08-19T12:52:31.177505Z"
        },
        "trusted": true,
        "id": "vSXffZDnLAZb"
      },
      "execution_count": null,
      "outputs": []
    },
    {
      "cell_type": "code",
      "source": [
        "train_loader, valid_loader = get_loaders(\n",
        "        train_df, valid_df, tokenizer, CFG.img_size, CFG.batch_size, CFG.max_len, tokenizer.PAD_code)"
      ],
      "metadata": {
        "execution": {
          "iopub.status.busy": "2022-08-19T12:52:31.182418Z",
          "iopub.execute_input": "2022-08-19T12:52:31.183405Z",
          "iopub.status.idle": "2022-08-19T12:52:31.198233Z",
          "shell.execute_reply.started": "2022-08-19T12:52:31.183354Z",
          "shell.execute_reply": "2022-08-19T12:52:31.197169Z"
        },
        "trusted": true,
        "id": "M7w3-rKkLAZb"
      },
      "execution_count": null,
      "outputs": []
    },
    {
      "cell_type": "markdown",
      "source": [
        "# Models"
      ],
      "metadata": {
        "id": "auMe6DvZLAZb"
      }
    },
    {
      "cell_type": "markdown",
      "source": [
        "Finally arrived to the coolest part for every deep learning lover: The Model 😍\n",
        "Let's take a second look at the first image of this tutorial. First, we will need an encoder to take the input image and give us some embeddings (representations). The paper uses a ResNet50 (and also in other experiments uses ViT) but I decided to use DeiT. As the name suggests, this is a data efficient vision transformer and I thought it would be a good fit for our small dataset. Like ViT, it splits the image into patches and processes them like words in a sentence which again could be great for our task, as we will have a separate embedding for each of these patches and we can give them to our decoder in the next section to predict the target sequence (see it like translation from English to French, where our image is like a sentence in English and our target sequence containing the coordinates and labels of bboxes is like the equivalent sentence in French).\n",
        "I will use timm library to implement a pre-trained DeiT model."
      ],
      "metadata": {
        "id": "YUoZcTz6jB2y"
      }
    },
    {
      "cell_type": "code",
      "source": [
        "class Encoder(nn.Module):\n",
        "    def __init__(self, model_name='deit3_small_patch16_384_in21ft1k', pretrained=False, out_dim=256):\n",
        "        super().__init__()\n",
        "        self.model = timm.create_model(\n",
        "            model_name, num_classes=0, global_pool='', pretrained=pretrained)\n",
        "        self.bottleneck = nn.AdaptiveAvgPool1d(out_dim)\n",
        "\n",
        "    def forward(self, x):\n",
        "        features = self.model(x)\n",
        "        return self.bottleneck(features[:, 1:])"
      ],
      "metadata": {
        "execution": {
          "iopub.status.busy": "2022-08-19T12:52:31.200169Z",
          "iopub.execute_input": "2022-08-19T12:52:31.201095Z",
          "iopub.status.idle": "2022-08-19T12:52:31.208805Z",
          "shell.execute_reply.started": "2022-08-19T12:52:31.201054Z",
          "shell.execute_reply": "2022-08-19T12:52:31.207824Z"
        },
        "trusted": true,
        "id": "vtG_mZPkLAZb"
      },
      "execution_count": null,
      "outputs": []
    },
    {
      "cell_type": "markdown",
      "source": [
        "The bottleneck layer is to reduce the number of features of these embeddings to that of the decoder. The paper used a decoder dim of 256 and that's the reason why I am reducing it here using Average Pooling. Also, the first token in this model relates to the CLS token and I am skipping it in the forward method (```features[:, 1:]```)."
      ],
      "metadata": {
        "id": "zWleD_hljF6J"
      }
    },
    {
      "cell_type": "code",
      "source": [
        "class Decoder(nn.Module):\n",
        "    def __init__(self, vocab_size, encoder_length, dim, num_heads, num_layers):\n",
        "        super().__init__()\n",
        "        self.dim = dim\n",
        "\n",
        "        self.embedding = nn.Embedding(vocab_size, dim)\n",
        "        self.decoder_pos_embed = nn.Parameter(torch.randn(1, CFG.max_len-1, dim) * .02)\n",
        "        self.decoder_pos_drop = nn.Dropout(p=0.05)\n",
        "\n",
        "        decoder_layer = nn.TransformerDecoderLayer(d_model=dim, nhead=num_heads)\n",
        "        self.decoder = nn.TransformerDecoder(decoder_layer, num_layers=num_layers)\n",
        "        self.output = nn.Linear(dim, vocab_size)\n",
        "\n",
        "\n",
        "        self.encoder_pos_embed = nn.Parameter(torch.randn(1, encoder_length, dim) * .02)\n",
        "        self.encoder_pos_drop = nn.Dropout(p=0.05)\n",
        "\n",
        "        self.init_weights()\n",
        "\n",
        "    def init_weights(self):\n",
        "        for name, p in self.named_parameters():\n",
        "            if 'encoder_pos_embed' in name or 'decoder_pos_embed' in name:\n",
        "                print(\"skipping pos_embed...\")\n",
        "                continue\n",
        "            if p.dim() > 1:\n",
        "                nn.init.xavier_uniform_(p)\n",
        "\n",
        "        trunc_normal_(self.encoder_pos_embed, std=.02)\n",
        "        trunc_normal_(self.decoder_pos_embed, std=.02)\n",
        "\n",
        "\n",
        "    def forward(self, encoder_out, tgt):\n",
        "        \"\"\"\n",
        "        encoder_out: shape(N, L, D)\n",
        "        tgt: shape(N, L)\n",
        "        \"\"\"\n",
        "\n",
        "        tgt_mask, tgt_padding_mask = create_mask(tgt)\n",
        "        tgt_embedding = self.embedding(tgt)\n",
        "        tgt_embedding = self.decoder_pos_drop(\n",
        "            tgt_embedding + self.decoder_pos_embed\n",
        "        )\n",
        "\n",
        "        encoder_out = self.encoder_pos_drop(\n",
        "            encoder_out + self.encoder_pos_embed\n",
        "        )\n",
        "\n",
        "        encoder_out = encoder_out.transpose(0, 1)\n",
        "        tgt_embedding = tgt_embedding.transpose(0, 1)\n",
        "\n",
        "        preds = self.decoder(memory=encoder_out,\n",
        "                             tgt=tgt_embedding,\n",
        "                             tgt_mask=tgt_mask,\n",
        "                             tgt_key_padding_mask=tgt_padding_mask)\n",
        "\n",
        "        preds = preds.transpose(0, 1)\n",
        "        return self.output(preds)\n",
        "\n",
        "    def predict(self, encoder_out, tgt):\n",
        "        length = tgt.size(1)\n",
        "        padding = torch.ones(tgt.size(0), CFG.max_len-length-1).fill_(CFG.pad_idx).long().to(tgt.device)\n",
        "        tgt = torch.cat([tgt, padding], dim=1)\n",
        "        tgt_mask, tgt_padding_mask = create_mask(tgt)\n",
        "        # is it necessary to multiply it by math.sqrt(d) ?\n",
        "        tgt_embedding = self.embedding(tgt)\n",
        "        tgt_embedding = self.decoder_pos_drop(\n",
        "            tgt_embedding + self.decoder_pos_embed\n",
        "        )\n",
        "\n",
        "        encoder_out = self.encoder_pos_drop(\n",
        "            encoder_out + self.encoder_pos_embed\n",
        "        )\n",
        "\n",
        "        encoder_out = encoder_out.transpose(0, 1)\n",
        "        tgt_embedding = tgt_embedding.transpose(0, 1)\n",
        "\n",
        "        preds = self.decoder(memory=encoder_out,\n",
        "                             tgt=tgt_embedding,\n",
        "                             tgt_mask=tgt_mask,\n",
        "                             tgt_key_padding_mask=tgt_padding_mask)\n",
        "\n",
        "        preds = preds.transpose(0, 1)\n",
        "        return self.output(preds)[:, length-1, :]"
      ],
      "metadata": {
        "execution": {
          "iopub.status.busy": "2022-08-19T12:52:31.210492Z",
          "iopub.execute_input": "2022-08-19T12:52:31.210946Z",
          "iopub.status.idle": "2022-08-19T12:52:31.227994Z",
          "shell.execute_reply.started": "2022-08-19T12:52:31.210909Z",
          "shell.execute_reply": "2022-08-19T12:52:31.226888Z"
        },
        "trusted": true,
        "id": "KAXKjppQLAZb"
      },
      "execution_count": null,
      "outputs": []
    },
    {
      "cell_type": "markdown",
      "source": [
        "Our decoder takes the patch embeddings of the input image and learns to predict the sequence containing bboxes. Here I am using PyTorch nn.TransformerDecoder module to implement a 6 layer decoder with a feature dimension of 256. We also need to add positional embeddings to the embeddings so that the model knows about each token's position in the sequence (I am adding positional embedding for both encoder tokens and decoder tokens. While we have to do this for the decoder, we might not need to add them to the encoder tokens as the DeiT model knows about the order of patches itself). I am doing this by those nn.Parameter modules which will learn 1 parameter per token position. Finally, we will use a nn.Linear layer to predict the next token from our vocabulary.\n",
        "The ```create_mask()``` function (you will see its definition in tge next section named **Utils**) gives us two masks needed for training the decoder: one to tell the model to ignore the PAD tokens and do not incorporate them in its attention modules and another to mask the future tokens in order to make the decoder predict tokens only by looking at the current token and the previous ones.\n",
        "\n",
        "The decoder's predict method takes the previously generated tokens, pads them to the max_length and predicts the next token for each sequence in the batch and returns those new tokens."
      ],
      "metadata": {
        "id": "tumUJbyYjLEE"
      }
    },
    {
      "cell_type": "code",
      "source": [
        "class EncoderDecoder(nn.Module):\n",
        "    def __init__(self, encoder, decoder):\n",
        "        super().__init__()\n",
        "        self.encoder = encoder\n",
        "        self.decoder = decoder\n",
        "\n",
        "    def forward(self, image, tgt):\n",
        "        encoder_out = self.encoder(image)\n",
        "        preds = self.decoder(encoder_out, tgt)\n",
        "        return preds\n",
        "    def predict(self, image, tgt):\n",
        "        encoder_out = self.encoder(image)\n",
        "        preds = self.decoder.predict(encoder_out, tgt)\n",
        "        return preds"
      ],
      "metadata": {
        "execution": {
          "iopub.status.busy": "2022-08-19T12:52:31.229475Z",
          "iopub.execute_input": "2022-08-19T12:52:31.230131Z",
          "iopub.status.idle": "2022-08-19T12:52:31.241518Z",
          "shell.execute_reply.started": "2022-08-19T12:52:31.230096Z",
          "shell.execute_reply": "2022-08-19T12:52:31.240510Z"
        },
        "trusted": true,
        "id": "oPyI62UmLAZb"
      },
      "execution_count": null,
      "outputs": []
    },
    {
      "cell_type": "markdown",
      "source": [
        "This is a simple class encapsulating the encoder and decoder. It also has a predict function which calls the predict function of Decoder to detect objects in an image."
      ],
      "metadata": {
        "id": "x2RyrSCbjnEi"
      }
    },
    {
      "cell_type": "code",
      "source": [
        "encoder = Encoder(model_name=CFG.model_name, pretrained=True, out_dim=256)\n",
        "decoder = Decoder(vocab_size=tokenizer.vocab_size,\n",
        "                  encoder_length=CFG.num_patches, dim=256, num_heads=8, num_layers=6)\n",
        "model = EncoderDecoder(encoder, decoder)\n",
        "model.to(CFG.device);"
      ],
      "metadata": {
        "execution": {
          "iopub.status.busy": "2022-08-19T12:52:31.242965Z",
          "iopub.execute_input": "2022-08-19T12:52:31.243504Z",
          "iopub.status.idle": "2022-08-19T12:52:33.933257Z",
          "shell.execute_reply.started": "2022-08-19T12:52:31.243422Z",
          "shell.execute_reply": "2022-08-19T12:52:33.932029Z"
        },
        "trusted": true,
        "colab": {
          "base_uri": "https://localhost:8080/"
        },
        "id": "l7V3wTghLAZb",
        "outputId": "bf69f684-5b48-4dde-de3a-f9c0df058ecb"
      },
      "execution_count": null,
      "outputs": [
        {
          "output_type": "stream",
          "name": "stderr",
          "text": [
            "Downloading: \"https://dl.fbaipublicfiles.com/deit/deit_3_small_384_21k.pth\" to /root/.cache/torch/hub/checkpoints/deit_3_small_384_21k.pth\n"
          ]
        },
        {
          "output_type": "stream",
          "name": "stdout",
          "text": [
            "skipping pos_embed...\n",
            "skipping pos_embed...\n"
          ]
        }
      ]
    },
    {
      "cell_type": "markdown",
      "source": [
        "# Train and Eval"
      ],
      "metadata": {
        "id": "G58GUpn9LAZb"
      }
    },
    {
      "cell_type": "markdown",
      "source": [
        "Now let's see how we can train this model. Most of the following code is just standard PyTorch training boilerplate but there is a simple but important point in it. As mentioned earlier, we train the model like a language model (GPT for e.g.) and it works like this → the model needs to predict the next token only seeing the previous ones (tokens to the left). At the start, it only sees the BOS sentence and it needs to predict the next token, and so on and so forth. And this is achieved simply by this part:\n",
        "1. ```y_input = y[:, :-1]```\n",
        "2. ```y_expected = y[:, 1:]```\n",
        "3. ```preds = model(x, y_input)```"
      ],
      "metadata": {
        "id": "twZktlyDj286"
      }
    },
    {
      "cell_type": "code",
      "source": [
        "def train_epoch(model, train_loader, optimizer, lr_scheduler, criterion, logger=None):\n",
        "    model.train()\n",
        "    loss_meter = AvgMeter()\n",
        "    tqdm_object = tqdm(train_loader, total=len(train_loader))\n",
        "\n",
        "    for x, y in tqdm_object:\n",
        "        x, y = x.to(CFG.device, non_blocking=True), y.to(CFG.device, non_blocking=True)\n",
        "\n",
        "        y_input = y[:, :-1]\n",
        "        y_expected = y[:, 1:]\n",
        "\n",
        "\n",
        "        preds = model(x, y_input)\n",
        "        loss = criterion(preds.reshape(-1, preds.shape[-1]), y_expected.reshape(-1))\n",
        "\n",
        "        optimizer.zero_grad()\n",
        "        loss.backward()\n",
        "        optimizer.step()\n",
        "\n",
        "\n",
        "        if lr_scheduler is not None:\n",
        "            lr_scheduler.step()\n",
        "\n",
        "        loss_meter.update(loss.item(), x.size(0))\n",
        "\n",
        "        lr = get_lr(optimizer)\n",
        "        tqdm_object.set_postfix(train_loss=loss_meter.avg, lr=f\"{lr:.6f}\")\n",
        "        if logger is not None:\n",
        "            logger.log({\"train_step_loss\": loss_meter.avg, 'lr': lr})\n",
        "\n",
        "    return loss_meter.avg"
      ],
      "metadata": {
        "execution": {
          "iopub.status.busy": "2022-08-19T12:53:04.423908Z",
          "iopub.execute_input": "2022-08-19T12:53:04.424268Z",
          "iopub.status.idle": "2022-08-19T12:53:04.434287Z",
          "shell.execute_reply.started": "2022-08-19T12:53:04.424238Z",
          "shell.execute_reply": "2022-08-19T12:53:04.433084Z"
        },
        "trusted": true,
        "id": "kiRQARfLLAZb"
      },
      "execution_count": null,
      "outputs": []
    },
    {
      "cell_type": "code",
      "source": [
        "def valid_epoch(model, valid_loader, criterion):\n",
        "    model.eval()\n",
        "    loss_meter = AvgMeter()\n",
        "    tqdm_object = tqdm(valid_loader, total=len(valid_loader))\n",
        "\n",
        "    with torch.no_grad():\n",
        "        for x, y in tqdm_object:\n",
        "            x, y = x.to(CFG.device, non_blocking=True), y.to(CFG.device, non_blocking=True)\n",
        "\n",
        "            y_input = y[:, :-1]\n",
        "            y_expected = y[:, 1:]\n",
        "\n",
        "            preds = model(x, y_input)\n",
        "            loss = criterion(preds.reshape(-1, preds.shape[-1]), y_expected.reshape(-1))\n",
        "\n",
        "\n",
        "            loss_meter.update(loss.item(), x.size(0))\n",
        "\n",
        "    return loss_meter.avg"
      ],
      "metadata": {
        "execution": {
          "iopub.status.busy": "2022-08-19T12:52:33.949962Z",
          "iopub.execute_input": "2022-08-19T12:52:33.950406Z",
          "iopub.status.idle": "2022-08-19T12:52:33.960776Z",
          "shell.execute_reply.started": "2022-08-19T12:52:33.950353Z",
          "shell.execute_reply": "2022-08-19T12:52:33.959774Z"
        },
        "trusted": true,
        "id": "7rNklWtcLAZc"
      },
      "execution_count": null,
      "outputs": []
    },
    {
      "cell_type": "code",
      "source": [
        "def train_eval(model,\n",
        "               train_loader,\n",
        "               valid_loader,\n",
        "               criterion,\n",
        "               optimizer,\n",
        "               lr_scheduler,\n",
        "               step,\n",
        "               logger):\n",
        "\n",
        "    best_loss = float('inf')\n",
        "\n",
        "    for epoch in range(CFG.epochs):\n",
        "        print(f\"Epoch {epoch + 1}\")\n",
        "        if logger is not None:\n",
        "            logger.log({\"Epoch\": epoch + 1})\n",
        "\n",
        "        train_loss = train_epoch(model, train_loader, optimizer,\n",
        "                                 lr_scheduler if step == 'batch' else None,\n",
        "                                 criterion, logger=logger)\n",
        "\n",
        "        valid_loss = valid_epoch(model, valid_loader, criterion)\n",
        "        print(f\"Valid loss: {valid_loss:.3f}\")\n",
        "\n",
        "        if step == 'epoch':\n",
        "            pass\n",
        "\n",
        "        if valid_loss < best_loss:\n",
        "            best_loss = valid_loss\n",
        "            torch.save(model.state_dict(), 'best_valid_loss.pth')\n",
        "            print(\"Saved Best Model\")\n",
        "\n",
        "        if logger is not None:\n",
        "            logger.log({\n",
        "                'train_loss': train_loss,\n",
        "                'valid_loss': valid_loss\n",
        "            })\n",
        "            logger.save('best_valid_loss.pth')"
      ],
      "metadata": {
        "execution": {
          "iopub.status.busy": "2022-08-19T12:52:33.962028Z",
          "iopub.execute_input": "2022-08-19T12:52:33.963664Z",
          "iopub.status.idle": "2022-08-19T12:52:33.973428Z",
          "shell.execute_reply.started": "2022-08-19T12:52:33.963629Z",
          "shell.execute_reply": "2022-08-19T12:52:33.972360Z"
        },
        "trusted": true,
        "id": "_mHsFwbxLAZc"
      },
      "execution_count": null,
      "outputs": []
    },
    {
      "cell_type": "markdown",
      "source": [
        "## Utils"
      ],
      "metadata": {
        "id": "7A2oeuLELAZc"
      }
    },
    {
      "cell_type": "code",
      "source": [
        "def generate_square_subsequent_mask(sz):\n",
        "    mask = (torch.triu(torch.ones((sz, sz), device=CFG.device))\n",
        "            == 1).transpose(0, 1)\n",
        "    mask = mask.float().masked_fill(mask == 0, float(\n",
        "        '-inf')).masked_fill(mask == 1, float(0.0))\n",
        "    return mask\n",
        "\n",
        "\n",
        "def create_mask(tgt):\n",
        "    \"\"\"\n",
        "    tgt: shape(N, L)\n",
        "    \"\"\"\n",
        "    tgt_seq_len = tgt.shape[1]\n",
        "\n",
        "    tgt_mask = generate_square_subsequent_mask(tgt_seq_len)\n",
        "    tgt_padding_mask = (tgt == CFG.pad_idx)\n",
        "\n",
        "    return tgt_mask, tgt_padding_mask\n",
        "\n",
        "\n",
        "class AvgMeter:\n",
        "    def __init__(self, name=\"Metric\"):\n",
        "        self.name = name\n",
        "        self.reset()\n",
        "\n",
        "    def reset(self):\n",
        "        self.avg, self.sum, self.count = [0]*3\n",
        "\n",
        "    def update(self, val, count=1):\n",
        "        self.count += count\n",
        "        self.sum += val * count\n",
        "        self.avg = self.sum / self.count\n",
        "\n",
        "    def __repr__(self):\n",
        "        text = f\"{self.name}: {self.avg:.4f}\"\n",
        "        return text\n",
        "\n",
        "\n",
        "def get_lr(optimizer):\n",
        "    for param_group in optimizer.param_groups:\n",
        "        return param_group[\"lr\"]"
      ],
      "metadata": {
        "execution": {
          "iopub.status.busy": "2022-08-19T12:52:33.974951Z",
          "iopub.execute_input": "2022-08-19T12:52:33.975704Z",
          "iopub.status.idle": "2022-08-19T12:52:33.987057Z",
          "shell.execute_reply.started": "2022-08-19T12:52:33.975668Z",
          "shell.execute_reply": "2022-08-19T12:52:33.986122Z"
        },
        "trusted": true,
        "id": "0yZ3nsZ6LAZc"
      },
      "execution_count": null,
      "outputs": []
    },
    {
      "cell_type": "code",
      "source": [
        "optimizer = torch.optim.AdamW(model.parameters(), lr=CFG.lr, weight_decay=CFG.weight_decay)\n",
        "\n",
        "num_training_steps = CFG.epochs * (len(train_loader.dataset) // CFG.batch_size)\n",
        "num_warmup_steps = int(0.05 * num_training_steps)\n",
        "lr_scheduler = get_linear_schedule_with_warmup(optimizer,\n",
        "                                               num_training_steps=num_training_steps,\n",
        "                                               num_warmup_steps=num_warmup_steps)\n",
        "criterion = nn.CrossEntropyLoss(ignore_index=CFG.pad_idx)\n",
        "\n",
        "train_eval(model,\n",
        "           train_loader,\n",
        "           valid_loader,\n",
        "           criterion,\n",
        "           optimizer,\n",
        "           lr_scheduler=lr_scheduler,\n",
        "           step='batch',\n",
        "           logger=None)"
      ],
      "metadata": {
        "execution": {
          "iopub.status.busy": "2022-08-19T12:53:07.518254Z",
          "iopub.execute_input": "2022-08-19T12:53:07.519005Z",
          "iopub.status.idle": "2022-08-19T12:53:49.327238Z",
          "shell.execute_reply.started": "2022-08-19T12:53:07.518955Z",
          "shell.execute_reply": "2022-08-19T12:53:49.324697Z"
        },
        "trusted": true,
        "colab": {
          "base_uri": "https://localhost:8080/",
          "height": 407
        },
        "id": "Ac4sVGfRLAZc",
        "outputId": "1e862311-40bb-4cca-c15c-debbe540001f"
      },
      "execution_count": null,
      "outputs": [
        {
          "output_type": "stream",
          "name": "stdout",
          "text": [
            "Epoch 1\n"
          ]
        },
        {
          "output_type": "stream",
          "name": "stderr",
          "text": [
            "  2%|▏         | 17/857 [00:16<13:19,  1.05it/s, lr=0.000004, train_loss=5.54]\n"
          ]
        },
        {
          "output_type": "error",
          "ename": "KeyboardInterrupt",
          "evalue": "ignored",
          "traceback": [
            "\u001b[0;31m---------------------------------------------------------------------------\u001b[0m",
            "\u001b[0;31mKeyboardInterrupt\u001b[0m                         Traceback (most recent call last)",
            "\u001b[0;32m<ipython-input-32-8f1ebc243ec7>\u001b[0m in \u001b[0;36m<module>\u001b[0;34m\u001b[0m\n\u001b[1;32m     15\u001b[0m            \u001b[0mlr_scheduler\u001b[0m\u001b[0;34m=\u001b[0m\u001b[0mlr_scheduler\u001b[0m\u001b[0;34m,\u001b[0m\u001b[0;34m\u001b[0m\u001b[0;34m\u001b[0m\u001b[0m\n\u001b[1;32m     16\u001b[0m            \u001b[0mstep\u001b[0m\u001b[0;34m=\u001b[0m\u001b[0;34m'batch'\u001b[0m\u001b[0;34m,\u001b[0m\u001b[0;34m\u001b[0m\u001b[0;34m\u001b[0m\u001b[0m\n\u001b[0;32m---> 17\u001b[0;31m            logger=None)\n\u001b[0m",
            "\u001b[0;32m<ipython-input-25-30607efc688b>\u001b[0m in \u001b[0;36mtrain_eval\u001b[0;34m(model, train_loader, valid_loader, criterion, optimizer, lr_scheduler, step, logger)\u001b[0m\n\u001b[1;32m     17\u001b[0m         train_loss = train_epoch(model, train_loader, optimizer, \n\u001b[1;32m     18\u001b[0m                                  \u001b[0mlr_scheduler\u001b[0m \u001b[0;32mif\u001b[0m \u001b[0mstep\u001b[0m \u001b[0;34m==\u001b[0m \u001b[0;34m'batch'\u001b[0m \u001b[0;32melse\u001b[0m \u001b[0;32mNone\u001b[0m\u001b[0;34m,\u001b[0m\u001b[0;34m\u001b[0m\u001b[0;34m\u001b[0m\u001b[0m\n\u001b[0;32m---> 19\u001b[0;31m                                  criterion, logger=logger)\n\u001b[0m\u001b[1;32m     20\u001b[0m \u001b[0;34m\u001b[0m\u001b[0m\n\u001b[1;32m     21\u001b[0m         \u001b[0mvalid_loss\u001b[0m \u001b[0;34m=\u001b[0m \u001b[0mvalid_epoch\u001b[0m\u001b[0;34m(\u001b[0m\u001b[0mmodel\u001b[0m\u001b[0;34m,\u001b[0m \u001b[0mvalid_loader\u001b[0m\u001b[0;34m,\u001b[0m \u001b[0mcriterion\u001b[0m\u001b[0;34m)\u001b[0m\u001b[0;34m\u001b[0m\u001b[0;34m\u001b[0m\u001b[0m\n",
            "\u001b[0;32m<ipython-input-23-bed16c6138d1>\u001b[0m in \u001b[0;36mtrain_epoch\u001b[0;34m(model, train_loader, optimizer, lr_scheduler, criterion, logger)\u001b[0m\n\u001b[1;32m     16\u001b[0m         \u001b[0moptimizer\u001b[0m\u001b[0;34m.\u001b[0m\u001b[0mzero_grad\u001b[0m\u001b[0;34m(\u001b[0m\u001b[0;34m)\u001b[0m\u001b[0;34m\u001b[0m\u001b[0;34m\u001b[0m\u001b[0m\n\u001b[1;32m     17\u001b[0m         \u001b[0mloss\u001b[0m\u001b[0;34m.\u001b[0m\u001b[0mbackward\u001b[0m\u001b[0;34m(\u001b[0m\u001b[0;34m)\u001b[0m\u001b[0;34m\u001b[0m\u001b[0;34m\u001b[0m\u001b[0m\n\u001b[0;32m---> 18\u001b[0;31m         \u001b[0moptimizer\u001b[0m\u001b[0;34m.\u001b[0m\u001b[0mstep\u001b[0m\u001b[0;34m(\u001b[0m\u001b[0;34m)\u001b[0m\u001b[0;34m\u001b[0m\u001b[0;34m\u001b[0m\u001b[0m\n\u001b[0m\u001b[1;32m     19\u001b[0m \u001b[0;34m\u001b[0m\u001b[0m\n\u001b[1;32m     20\u001b[0m \u001b[0;34m\u001b[0m\u001b[0m\n",
            "\u001b[0;32m/usr/local/lib/python3.7/dist-packages/torch/optim/lr_scheduler.py\u001b[0m in \u001b[0;36mwrapper\u001b[0;34m(*args, **kwargs)\u001b[0m\n\u001b[1;32m     63\u001b[0m                 \u001b[0minstance\u001b[0m\u001b[0;34m.\u001b[0m\u001b[0m_step_count\u001b[0m \u001b[0;34m+=\u001b[0m \u001b[0;36m1\u001b[0m\u001b[0;34m\u001b[0m\u001b[0;34m\u001b[0m\u001b[0m\n\u001b[1;32m     64\u001b[0m                 \u001b[0mwrapped\u001b[0m \u001b[0;34m=\u001b[0m \u001b[0mfunc\u001b[0m\u001b[0;34m.\u001b[0m\u001b[0m__get__\u001b[0m\u001b[0;34m(\u001b[0m\u001b[0minstance\u001b[0m\u001b[0;34m,\u001b[0m \u001b[0mcls\u001b[0m\u001b[0;34m)\u001b[0m\u001b[0;34m\u001b[0m\u001b[0;34m\u001b[0m\u001b[0m\n\u001b[0;32m---> 65\u001b[0;31m                 \u001b[0;32mreturn\u001b[0m \u001b[0mwrapped\u001b[0m\u001b[0;34m(\u001b[0m\u001b[0;34m*\u001b[0m\u001b[0margs\u001b[0m\u001b[0;34m,\u001b[0m \u001b[0;34m**\u001b[0m\u001b[0mkwargs\u001b[0m\u001b[0;34m)\u001b[0m\u001b[0;34m\u001b[0m\u001b[0;34m\u001b[0m\u001b[0m\n\u001b[0m\u001b[1;32m     66\u001b[0m \u001b[0;34m\u001b[0m\u001b[0m\n\u001b[1;32m     67\u001b[0m             \u001b[0;31m# Note that the returned function here is no longer a bound method,\u001b[0m\u001b[0;34m\u001b[0m\u001b[0;34m\u001b[0m\u001b[0;34m\u001b[0m\u001b[0m\n",
            "\u001b[0;32m/usr/local/lib/python3.7/dist-packages/torch/optim/optimizer.py\u001b[0m in \u001b[0;36mwrapper\u001b[0;34m(*args, **kwargs)\u001b[0m\n\u001b[1;32m    111\u001b[0m                 \u001b[0mprofile_name\u001b[0m \u001b[0;34m=\u001b[0m \u001b[0;34m\"Optimizer.step#{}.step\"\u001b[0m\u001b[0;34m.\u001b[0m\u001b[0mformat\u001b[0m\u001b[0;34m(\u001b[0m\u001b[0mobj\u001b[0m\u001b[0;34m.\u001b[0m\u001b[0m__class__\u001b[0m\u001b[0;34m.\u001b[0m\u001b[0m__name__\u001b[0m\u001b[0;34m)\u001b[0m\u001b[0;34m\u001b[0m\u001b[0;34m\u001b[0m\u001b[0m\n\u001b[1;32m    112\u001b[0m                 \u001b[0;32mwith\u001b[0m \u001b[0mtorch\u001b[0m\u001b[0;34m.\u001b[0m\u001b[0mautograd\u001b[0m\u001b[0;34m.\u001b[0m\u001b[0mprofiler\u001b[0m\u001b[0;34m.\u001b[0m\u001b[0mrecord_function\u001b[0m\u001b[0;34m(\u001b[0m\u001b[0mprofile_name\u001b[0m\u001b[0;34m)\u001b[0m\u001b[0;34m:\u001b[0m\u001b[0;34m\u001b[0m\u001b[0;34m\u001b[0m\u001b[0m\n\u001b[0;32m--> 113\u001b[0;31m                     \u001b[0;32mreturn\u001b[0m \u001b[0mfunc\u001b[0m\u001b[0;34m(\u001b[0m\u001b[0;34m*\u001b[0m\u001b[0margs\u001b[0m\u001b[0;34m,\u001b[0m \u001b[0;34m**\u001b[0m\u001b[0mkwargs\u001b[0m\u001b[0;34m)\u001b[0m\u001b[0;34m\u001b[0m\u001b[0;34m\u001b[0m\u001b[0m\n\u001b[0m\u001b[1;32m    114\u001b[0m             \u001b[0;32mreturn\u001b[0m \u001b[0mwrapper\u001b[0m\u001b[0;34m\u001b[0m\u001b[0;34m\u001b[0m\u001b[0m\n\u001b[1;32m    115\u001b[0m \u001b[0;34m\u001b[0m\u001b[0m\n",
            "\u001b[0;32m/usr/local/lib/python3.7/dist-packages/torch/autograd/grad_mode.py\u001b[0m in \u001b[0;36mdecorate_context\u001b[0;34m(*args, **kwargs)\u001b[0m\n\u001b[1;32m     25\u001b[0m         \u001b[0;32mdef\u001b[0m \u001b[0mdecorate_context\u001b[0m\u001b[0;34m(\u001b[0m\u001b[0;34m*\u001b[0m\u001b[0margs\u001b[0m\u001b[0;34m,\u001b[0m \u001b[0;34m**\u001b[0m\u001b[0mkwargs\u001b[0m\u001b[0;34m)\u001b[0m\u001b[0;34m:\u001b[0m\u001b[0;34m\u001b[0m\u001b[0;34m\u001b[0m\u001b[0m\n\u001b[1;32m     26\u001b[0m             \u001b[0;32mwith\u001b[0m \u001b[0mself\u001b[0m\u001b[0;34m.\u001b[0m\u001b[0mclone\u001b[0m\u001b[0;34m(\u001b[0m\u001b[0;34m)\u001b[0m\u001b[0;34m:\u001b[0m\u001b[0;34m\u001b[0m\u001b[0;34m\u001b[0m\u001b[0m\n\u001b[0;32m---> 27\u001b[0;31m                 \u001b[0;32mreturn\u001b[0m \u001b[0mfunc\u001b[0m\u001b[0;34m(\u001b[0m\u001b[0;34m*\u001b[0m\u001b[0margs\u001b[0m\u001b[0;34m,\u001b[0m \u001b[0;34m**\u001b[0m\u001b[0mkwargs\u001b[0m\u001b[0;34m)\u001b[0m\u001b[0;34m\u001b[0m\u001b[0;34m\u001b[0m\u001b[0m\n\u001b[0m\u001b[1;32m     28\u001b[0m         \u001b[0;32mreturn\u001b[0m \u001b[0mcast\u001b[0m\u001b[0;34m(\u001b[0m\u001b[0mF\u001b[0m\u001b[0;34m,\u001b[0m \u001b[0mdecorate_context\u001b[0m\u001b[0;34m)\u001b[0m\u001b[0;34m\u001b[0m\u001b[0;34m\u001b[0m\u001b[0m\n\u001b[1;32m     29\u001b[0m \u001b[0;34m\u001b[0m\u001b[0m\n",
            "\u001b[0;32m/usr/local/lib/python3.7/dist-packages/torch/optim/adamw.py\u001b[0m in \u001b[0;36mstep\u001b[0;34m(self, closure)\u001b[0m\n\u001b[1;32m    173\u001b[0m                   \u001b[0mmaximize\u001b[0m\u001b[0;34m=\u001b[0m\u001b[0mgroup\u001b[0m\u001b[0;34m[\u001b[0m\u001b[0;34m'maximize'\u001b[0m\u001b[0;34m]\u001b[0m\u001b[0;34m,\u001b[0m\u001b[0;34m\u001b[0m\u001b[0;34m\u001b[0m\u001b[0m\n\u001b[1;32m    174\u001b[0m                   \u001b[0mforeach\u001b[0m\u001b[0;34m=\u001b[0m\u001b[0mgroup\u001b[0m\u001b[0;34m[\u001b[0m\u001b[0;34m'foreach'\u001b[0m\u001b[0;34m]\u001b[0m\u001b[0;34m,\u001b[0m\u001b[0;34m\u001b[0m\u001b[0;34m\u001b[0m\u001b[0m\n\u001b[0;32m--> 175\u001b[0;31m                   capturable=group['capturable'])\n\u001b[0m\u001b[1;32m    176\u001b[0m \u001b[0;34m\u001b[0m\u001b[0m\n\u001b[1;32m    177\u001b[0m         \u001b[0;32mreturn\u001b[0m \u001b[0mloss\u001b[0m\u001b[0;34m\u001b[0m\u001b[0;34m\u001b[0m\u001b[0m\n",
            "\u001b[0;32m/usr/local/lib/python3.7/dist-packages/torch/optim/adamw.py\u001b[0m in \u001b[0;36madamw\u001b[0;34m(params, grads, exp_avgs, exp_avg_sqs, max_exp_avg_sqs, state_steps, foreach, capturable, amsgrad, beta1, beta2, lr, weight_decay, eps, maximize)\u001b[0m\n\u001b[1;32m    229\u001b[0m          \u001b[0meps\u001b[0m\u001b[0;34m=\u001b[0m\u001b[0meps\u001b[0m\u001b[0;34m,\u001b[0m\u001b[0;34m\u001b[0m\u001b[0;34m\u001b[0m\u001b[0m\n\u001b[1;32m    230\u001b[0m          \u001b[0mmaximize\u001b[0m\u001b[0;34m=\u001b[0m\u001b[0mmaximize\u001b[0m\u001b[0;34m,\u001b[0m\u001b[0;34m\u001b[0m\u001b[0;34m\u001b[0m\u001b[0m\n\u001b[0;32m--> 231\u001b[0;31m          capturable=capturable)\n\u001b[0m\u001b[1;32m    232\u001b[0m \u001b[0;34m\u001b[0m\u001b[0m\n\u001b[1;32m    233\u001b[0m \u001b[0;34m\u001b[0m\u001b[0m\n",
            "\u001b[0;32m/usr/local/lib/python3.7/dist-packages/torch/optim/adamw.py\u001b[0m in \u001b[0;36m_single_tensor_adamw\u001b[0;34m(params, grads, exp_avgs, exp_avg_sqs, max_exp_avg_sqs, state_steps, amsgrad, beta1, beta2, lr, weight_decay, eps, maximize, capturable)\u001b[0m\n\u001b[1;32m    265\u001b[0m         \u001b[0;31m# Decay the first and second moment running average coefficient\u001b[0m\u001b[0;34m\u001b[0m\u001b[0;34m\u001b[0m\u001b[0;34m\u001b[0m\u001b[0m\n\u001b[1;32m    266\u001b[0m         \u001b[0mexp_avg\u001b[0m\u001b[0;34m.\u001b[0m\u001b[0mmul_\u001b[0m\u001b[0;34m(\u001b[0m\u001b[0mbeta1\u001b[0m\u001b[0;34m)\u001b[0m\u001b[0;34m.\u001b[0m\u001b[0madd_\u001b[0m\u001b[0;34m(\u001b[0m\u001b[0mgrad\u001b[0m\u001b[0;34m,\u001b[0m \u001b[0malpha\u001b[0m\u001b[0;34m=\u001b[0m\u001b[0;36m1\u001b[0m \u001b[0;34m-\u001b[0m \u001b[0mbeta1\u001b[0m\u001b[0;34m)\u001b[0m\u001b[0;34m\u001b[0m\u001b[0;34m\u001b[0m\u001b[0m\n\u001b[0;32m--> 267\u001b[0;31m         \u001b[0mexp_avg_sq\u001b[0m\u001b[0;34m.\u001b[0m\u001b[0mmul_\u001b[0m\u001b[0;34m(\u001b[0m\u001b[0mbeta2\u001b[0m\u001b[0;34m)\u001b[0m\u001b[0;34m.\u001b[0m\u001b[0maddcmul_\u001b[0m\u001b[0;34m(\u001b[0m\u001b[0mgrad\u001b[0m\u001b[0;34m,\u001b[0m \u001b[0mgrad\u001b[0m\u001b[0;34m,\u001b[0m \u001b[0mvalue\u001b[0m\u001b[0;34m=\u001b[0m\u001b[0;36m1\u001b[0m \u001b[0;34m-\u001b[0m \u001b[0mbeta2\u001b[0m\u001b[0;34m)\u001b[0m\u001b[0;34m\u001b[0m\u001b[0;34m\u001b[0m\u001b[0m\n\u001b[0m\u001b[1;32m    268\u001b[0m \u001b[0;34m\u001b[0m\u001b[0m\n\u001b[1;32m    269\u001b[0m         \u001b[0;32mif\u001b[0m \u001b[0mcapturable\u001b[0m\u001b[0;34m:\u001b[0m\u001b[0;34m\u001b[0m\u001b[0;34m\u001b[0m\u001b[0m\n",
            "\u001b[0;31mKeyboardInterrupt\u001b[0m: "
          ]
        }
      ]
    },
    {
      "cell_type": "markdown",
      "source": [
        "The most common metric for object detection is Average Precision (AP) which you can read more about it [here](https://jonathan-hui.medium.com/map-mean-average-precision-for-object-detection-45c121a31173). The paper gets an AP of 43 w/ ResNet50 backbone after training on a whole lot of data for many hours of training. I could get an AP of 26.4 on my validation set with this small model and short training time which was cool as this is a tutorial on how to implement this paper easily and I didn't aim to beat the SOTA with this!"
      ],
      "metadata": {
        "id": "b-NwjmYlj-2r"
      }
    },
    {
      "cell_type": "markdown",
      "source": [
        "![](https://raw.githubusercontent.com/moein-shariatnia/Pix2Seq/master/imgs/Screen%20Shot%202022-08-19%20at%202.41.29%20PM.png)"
      ],
      "metadata": {
        "id": "M2BME4tJkTpX"
      }
    },
    {
      "cell_type": "markdown",
      "source": [
        "# Inference"
      ],
      "metadata": {
        "id": "kBE2bGFfkXvi"
      }
    },
    {
      "cell_type": "markdown",
      "source": [
        "Now let's take a look at how we can generate a detection sequence with this model for a test image."
      ],
      "metadata": {
        "id": "pLz96_vjkZ-6"
      }
    },
    {
      "cell_type": "markdown",
      "source": [
        "The following generate() function shows the whole sequence generation pipeline → First, we will create a batch with shape (batch_size, 1) containing only a BOS token for each image in the batch. The model takes the images and these BOS tokens and then predicts the next token for each image. We take the model's predictions, perform softmax and argmax on it to get the predicted token and concatenate this newly predicted token with the previous batch_preds tensor which had BOS tokens. We then repeat this loop for max_len number of times."
      ],
      "metadata": {
        "id": "tB4tDguqk_oZ"
      }
    },
    {
      "cell_type": "code",
      "source": [
        "def generate(model, x, tokenizer, max_len=50, top_k=0, top_p=1):\n",
        "    x = x.to(CFG.device)\n",
        "    batch_preds = torch.ones(x.size(0), 1).fill_(tokenizer.BOS_code).long().to(CFG.device)\n",
        "    confs = []\n",
        "\n",
        "    if top_k != 0 or top_p != 1:\n",
        "        sample = lambda preds: torch.softmax(preds, dim=-1).multinomial(num_samples=1).view(-1, 1)\n",
        "    else:\n",
        "        sample = lambda preds: torch.softmax(preds, dim=-1).argmax(dim=-1).view(-1, 1)\n",
        "\n",
        "    with torch.no_grad():\n",
        "        for i in range(max_len):\n",
        "            preds = model.predict(x, batch_preds)\n",
        "            ## If top_k and top_p are set to default, the following line does nothing!\n",
        "            preds = top_k_top_p_filtering(preds, top_k=top_k, top_p=top_p)\n",
        "            if i % 4 == 0:\n",
        "                confs_ = torch.softmax(preds, dim=-1).sort(axis=-1, descending=True)[0][:, 0].cpu()\n",
        "                confs.append(confs_)\n",
        "            preds = sample(preds)\n",
        "            batch_preds = torch.cat([batch_preds, preds], dim=1)\n",
        "\n",
        "    return batch_preds.cpu(), confs"
      ],
      "metadata": {
        "execution": {
          "iopub.status.busy": "2022-08-19T12:53:59.131310Z",
          "iopub.execute_input": "2022-08-19T12:53:59.132026Z",
          "iopub.status.idle": "2022-08-19T12:54:01.544531Z",
          "shell.execute_reply.started": "2022-08-19T12:53:59.131988Z",
          "shell.execute_reply": "2022-08-19T12:54:01.543161Z"
        },
        "trusted": true,
        "id": "oN2pL_6SLAZc"
      },
      "execution_count": null,
      "outputs": []
    },
    {
      "cell_type": "markdown",
      "source": [
        "We will also use this postprocess function to decode the predictions and get bbox coordinates and labels for each image."
      ],
      "metadata": {
        "id": "Yh_PCfuWleg7"
      }
    },
    {
      "cell_type": "code",
      "source": [
        "def postprocess(batch_preds, batch_confs, tokenizer):\n",
        "    EOS_idxs = (batch_preds == tokenizer.EOS_code).float().argmax(dim=-1)\n",
        "    ## sanity check\n",
        "    invalid_idxs = ((EOS_idxs - 1) % 5 != 0).nonzero().view(-1)\n",
        "    EOS_idxs[invalid_idxs] = 0\n",
        "\n",
        "    all_bboxes = []\n",
        "    all_labels = []\n",
        "    all_confs = []\n",
        "    for i, EOS_idx in enumerate(EOS_idxs.tolist()):\n",
        "        if EOS_idx == 0:\n",
        "            all_bboxes.append(None)\n",
        "            all_labels.append(None)\n",
        "            all_confs.append(None)\n",
        "            continue\n",
        "        labels, bboxes = tokenizer.decode(batch_preds[i, :EOS_idx+1])\n",
        "        confs = [round(batch_confs[j][i].item(), 3) for j in range(len(bboxes))]\n",
        "\n",
        "        all_bboxes.append(bboxes)\n",
        "        all_labels.append(labels)\n",
        "        all_confs.append(confs)\n",
        "\n",
        "    return all_bboxes, all_labels, all_confs"
      ],
      "metadata": {
        "id": "SanfvWWpleTa"
      },
      "execution_count": null,
      "outputs": []
    },
    {
      "cell_type": "code",
      "source": [
        "!gdown --id \"1qB8gmzCMq29DQbj7zhKPQ2aphGnisHkS\""
      ],
      "metadata": {
        "colab": {
          "base_uri": "https://localhost:8080/"
        },
        "id": "cIOi_Lifl6OY",
        "outputId": "55642202-d59d-41e3-cad5-e0c8fa3cfa0e"
      },
      "execution_count": null,
      "outputs": [
        {
          "output_type": "stream",
          "name": "stdout",
          "text": [
            "/usr/local/lib/python3.7/dist-packages/gdown/cli.py:131: FutureWarning: Option `--id` was deprecated in version 4.3.1 and will be removed in 5.0. You don't need to pass it anymore to use a file ID.\n",
            "  category=FutureWarning,\n",
            "Downloading...\n",
            "From: https://drive.google.com/uc?id=1qB8gmzCMq29DQbj7zhKPQ2aphGnisHkS\n",
            "To: /content/pix2seq_weights.pth\n",
            "100% 127M/127M [00:00<00:00, 245MB/s]\n"
          ]
        }
      ]
    },
    {
      "cell_type": "code",
      "source": [
        "encoder = Encoder(model_name=CFG.model_name, pretrained=False, out_dim=256)\n",
        "decoder = Decoder(vocab_size=tokenizer.vocab_size,\n",
        "                encoder_length=CFG.num_patches, dim=256, num_heads=8, num_layers=6)\n",
        "model = EncoderDecoder(encoder, decoder)\n",
        "model.to(CFG.device)\n",
        "\n",
        "msg = model.load_state_dict(torch.load('./pix2seq_weights.pth', map_location=CFG.device))\n",
        "print(msg)\n",
        "model.eval();"
      ],
      "metadata": {
        "colab": {
          "base_uri": "https://localhost:8080/"
        },
        "id": "us5m6xXklrFb",
        "outputId": "011f7ef0-2ea5-4d2d-ad32-7a2f78787da2"
      },
      "execution_count": null,
      "outputs": [
        {
          "output_type": "stream",
          "name": "stdout",
          "text": [
            "skipping pos_embed...\n",
            "skipping pos_embed...\n",
            "<All keys matched successfully>\n"
          ]
        }
      ]
    },
    {
      "cell_type": "code",
      "source": [
        "img_paths = \"\"\"2007_002648.jpg 2009_001611.jpg 2009_001643.jpg 2009_003956.jpg 2010_001669.jpg 2011_005895.jpg 2012_001185.jpg 2008_004301.jpg 2009_001614.jpg 2009_001673.jpg 2010_000803.jpg 2011_001054.jpg 2011_006197.jpg 2012_002955.jpg 2009_001466.jpg 2009_001623.jpg 2009_003233.jpg 2010_001109.jpg 2011_001526.jpg 2011_006707.jpg 2012_003463.jpg\"\"\"\n",
        "img_paths = [\"./VOCdevkit/VOC2012/JPEGImages/\" + path for path in img_paths.split(\" \")]"
      ],
      "metadata": {
        "id": "ZlOlfutzmDHX"
      },
      "execution_count": null,
      "outputs": []
    },
    {
      "cell_type": "code",
      "source": [
        "class VOCDatasetTest(torch.utils.data.Dataset):\n",
        "    def __init__(self, img_paths, size):\n",
        "        self.img_paths = img_paths\n",
        "        self.transforms = A.Compose([A.Resize(size, size), A.Normalize()])\n",
        "\n",
        "    def __getitem__(self, idx):\n",
        "        img_path = self.img_paths[idx]\n",
        "\n",
        "        img = cv2.imread(img_path)[..., ::-1]\n",
        "\n",
        "        if self.transforms is not None:\n",
        "            img = self.transforms(image=img)['image']\n",
        "\n",
        "        img = torch.FloatTensor(img).permute(2, 0, 1)\n",
        "\n",
        "        return img\n",
        "\n",
        "    def __len__(self):\n",
        "        return len(self.img_paths)"
      ],
      "metadata": {
        "id": "yTO8uLtOn7mL"
      },
      "execution_count": null,
      "outputs": []
    },
    {
      "cell_type": "code",
      "source": [
        "test_dataset = VOCDatasetTest(img_paths, size=CFG.img_size)\n",
        "test_loader = torch.utils.data.DataLoader(\n",
        "    test_dataset, batch_size=len(img_paths), shuffle=False, num_workers=0)"
      ],
      "metadata": {
        "id": "aVBqA8yYn39D"
      },
      "execution_count": null,
      "outputs": []
    },
    {
      "cell_type": "code",
      "source": [
        "GT_COLOR = (0, 255, 0) # Green\n",
        "PRED_COLOR = (255, 0, 0) # Red\n",
        "TEXT_COLOR = (255, 255, 255) # White\n",
        "\n",
        "\n",
        "def visualize_bbox(img, bbox, class_name, color, thickness=1):\n",
        "    \"\"\"Visualizes a single bounding box on the image\"\"\"\n",
        "    bbox = [int(item) for item in bbox]\n",
        "    x_min, y_min, x_max, y_max = bbox\n",
        "\n",
        "    cv2.rectangle(img, (x_min, y_min), (x_max, y_max), color=color, thickness=thickness)\n",
        "\n",
        "    ((text_width, text_height), _) = cv2.getTextSize(class_name, cv2.FONT_HERSHEY_SIMPLEX, 0.35, 1)\n",
        "    cv2.rectangle(img, (x_min, y_min), (x_min + text_width, y_min + int(text_height * 1.3)), color, -1)\n",
        "    cv2.putText(\n",
        "        img,\n",
        "        text=class_name,\n",
        "        org=(x_min, y_min+ int(text_height * 1.3)),\n",
        "        fontFace=cv2.FONT_HERSHEY_SIMPLEX,\n",
        "        fontScale=0.35,\n",
        "        color=TEXT_COLOR,\n",
        "        lineType=cv2.LINE_AA,\n",
        "    )\n",
        "    return img\n",
        "\n",
        "\n",
        "def visualize(image, bboxes, category_ids, category_id_to_name, color=PRED_COLOR, show=True):\n",
        "    img = image.copy()\n",
        "    for bbox, category_id in zip(bboxes, category_ids):\n",
        "        class_name = category_id_to_name[category_id]\n",
        "        img = visualize_bbox(img, bbox, class_name, color)\n",
        "    if show:\n",
        "        plt.figure(figsize=(12, 12))\n",
        "        plt.axis('off')\n",
        "        plt.imshow(img)\n",
        "        plt.show()\n",
        "    return img"
      ],
      "metadata": {
        "id": "N9r-kGBZoEbX"
      },
      "execution_count": null,
      "outputs": []
    },
    {
      "cell_type": "code",
      "source": [
        "all_bboxes = []\n",
        "all_labels = []\n",
        "all_confs = []\n",
        "\n",
        "with torch.no_grad():\n",
        "    for x in tqdm(test_loader):\n",
        "        batch_preds, batch_confs = generate(\n",
        "            model, x, tokenizer, max_len=CFG.generation_steps, top_k=0, top_p=1)\n",
        "        bboxes, labels, confs = postprocess(\n",
        "            batch_preds, batch_confs, tokenizer)\n",
        "        all_bboxes.extend(bboxes)\n",
        "        all_labels.extend(labels)\n",
        "        all_confs.extend(confs)\n",
        "\n",
        "os.mkdir(\"results\")\n",
        "for i, (bboxes, labels, confs) in enumerate(zip(all_bboxes, all_labels, all_confs)):\n",
        "    img_path = img_paths[i]\n",
        "    img = cv2.imread(img_path)[..., ::-1]\n",
        "    img = cv2.resize(img, (CFG.img_size, CFG.img_size))\n",
        "    img = visualize(img, bboxes, labels, id2cls, show=False)\n",
        "\n",
        "    cv2.imwrite(\"results/\" + img_path.split(\"/\")[-1], img[..., ::-1])"
      ],
      "metadata": {
        "colab": {
          "base_uri": "https://localhost:8080/"
        },
        "id": "6YjngYGmnuvo",
        "outputId": "6682b542-d0eb-4266-b879-af109e479308"
      },
      "execution_count": null,
      "outputs": [
        {
          "output_type": "stream",
          "name": "stderr",
          "text": [
            "100%|██████████| 1/1 [00:44<00:00, 44.38s/it]\n"
          ]
        }
      ]
    },
    {
      "cell_type": "markdown",
      "source": [
        "# Final Words\n"
      ],
      "metadata": {
        "id": "XcWqMhDkowFM"
      }
    },
    {
      "cell_type": "markdown",
      "source": [
        "I hope you've enjoyed this tutorial and learned something new. As always, I will be glad to hear your comments on this tutorial or answer any questions you might have regarding the paper and model.\n",
        "Have a nice day!"
      ],
      "metadata": {
        "id": "xMtFtyWtou17"
      }
    }
  ]
}